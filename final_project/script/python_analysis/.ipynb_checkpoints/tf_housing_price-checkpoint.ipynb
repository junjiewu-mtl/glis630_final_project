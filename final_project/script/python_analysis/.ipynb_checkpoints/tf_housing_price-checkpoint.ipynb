{
 "cells": [
  {
   "cell_type": "code",
   "execution_count": 75,
   "metadata": {
    "colab": {
     "base_uri": "https://localhost:8080/",
     "height": 32
    },
    "colab_type": "code",
    "id": "Bx1FEYwz6sBF",
    "outputId": "9227b930-27ed-44ba-ace2-8e7b78b6690c"
   },
   "outputs": [],
   "source": [
    "import tensorflow as tf\n",
    "import pandas as pd\n",
    "import numpy as np\n",
    "import matplotlib.pyplot as plt\n",
    "from sklearn.preprocessing import MinMaxScaler"
   ]
  },
  {
   "cell_type": "code",
   "execution_count": 76,
   "metadata": {
    "colab": {},
    "colab_type": "code",
    "id": "MC-cWW8iCN2R"
   },
   "outputs": [],
   "source": [
    "from tensorflow import keras\n",
    "from tensorflow.keras import layers"
   ]
  },
  {
   "cell_type": "code",
   "execution_count": 77,
   "metadata": {
    "colab": {},
    "colab_type": "code",
    "id": "pHcrcZQP8ypS"
   },
   "outputs": [],
   "source": [
    "from __future__ import absolute_import, division, print_function, unicode_literals\n",
    "import pathlib\n",
    "import seaborn as sns"
   ]
  },
  {
   "cell_type": "code",
   "execution_count": 78,
   "metadata": {
    "colab": {},
    "colab_type": "code",
    "id": "UExk1EtODKRA"
   },
   "outputs": [],
   "source": [
    "import tensorflow_docs as tfdocs\n",
    "import tensorflow_docs.plots\n",
    "import tensorflow_docs.modeling"
   ]
  },
  {
   "cell_type": "code",
   "execution_count": 79,
   "metadata": {
    "colab": {},
    "colab_type": "code",
    "id": "u8kXerdw_BRj"
   },
   "outputs": [],
   "source": [
    "from sklearn.preprocessing import OneHotEncoder\n",
    "from sklearn import tree"
   ]
  },
  {
   "cell_type": "markdown",
   "metadata": {},
   "source": [
    "### Load Data"
   ]
  },
  {
   "cell_type": "code",
   "execution_count": 508,
   "metadata": {},
   "outputs": [],
   "source": [
    "kc_dt_url = \"https://raw.githubusercontent.com/junjiewu-mtl/glis630_final_project/master/kc_house_data.csv\""
   ]
  },
  {
   "cell_type": "code",
   "execution_count": 509,
   "metadata": {
    "colab": {},
    "colab_type": "code",
    "id": "Np5PmHsH6c0B"
   },
   "outputs": [],
   "source": [
    "url = kc_dt_url\n",
    "hp_data = pd.read_csv(url)\n",
    "#hp_data.count()"
   ]
  },
  {
   "cell_type": "code",
   "execution_count": 510,
   "metadata": {},
   "outputs": [
    {
     "data": {
      "text/html": [
       "<div>\n",
       "<style scoped>\n",
       "    .dataframe tbody tr th:only-of-type {\n",
       "        vertical-align: middle;\n",
       "    }\n",
       "\n",
       "    .dataframe tbody tr th {\n",
       "        vertical-align: top;\n",
       "    }\n",
       "\n",
       "    .dataframe thead th {\n",
       "        text-align: right;\n",
       "    }\n",
       "</style>\n",
       "<table border=\"1\" class=\"dataframe\">\n",
       "  <thead>\n",
       "    <tr style=\"text-align: right;\">\n",
       "      <th></th>\n",
       "      <th>id</th>\n",
       "      <th>date</th>\n",
       "      <th>price</th>\n",
       "      <th>bedrooms</th>\n",
       "      <th>bathrooms</th>\n",
       "      <th>sqft_living</th>\n",
       "      <th>sqft_lot</th>\n",
       "      <th>floors</th>\n",
       "      <th>waterfront</th>\n",
       "      <th>view</th>\n",
       "      <th>...</th>\n",
       "      <th>sqft_basement</th>\n",
       "      <th>yr_built</th>\n",
       "      <th>yr_renovated</th>\n",
       "      <th>zipcode</th>\n",
       "      <th>lat</th>\n",
       "      <th>long</th>\n",
       "      <th>sqft_living15</th>\n",
       "      <th>sqft_lot15</th>\n",
       "      <th>formatted_date</th>\n",
       "      <th>week_of_year</th>\n",
       "    </tr>\n",
       "  </thead>\n",
       "  <tbody>\n",
       "    <tr>\n",
       "      <th>0</th>\n",
       "      <td>7129300520</td>\n",
       "      <td>20141013</td>\n",
       "      <td>222.0</td>\n",
       "      <td>3</td>\n",
       "      <td>1.00</td>\n",
       "      <td>1180</td>\n",
       "      <td>5650</td>\n",
       "      <td>1.0</td>\n",
       "      <td>0</td>\n",
       "      <td>0</td>\n",
       "      <td>...</td>\n",
       "      <td>0</td>\n",
       "      <td>1955</td>\n",
       "      <td>0</td>\n",
       "      <td>98178</td>\n",
       "      <td>47.5112</td>\n",
       "      <td>-122.257</td>\n",
       "      <td>1340</td>\n",
       "      <td>5650</td>\n",
       "      <td>2014-10-13</td>\n",
       "      <td>42</td>\n",
       "    </tr>\n",
       "    <tr>\n",
       "      <th>1</th>\n",
       "      <td>6414100192</td>\n",
       "      <td>20141209</td>\n",
       "      <td>538.0</td>\n",
       "      <td>3</td>\n",
       "      <td>2.25</td>\n",
       "      <td>2570</td>\n",
       "      <td>7242</td>\n",
       "      <td>2.0</td>\n",
       "      <td>0</td>\n",
       "      <td>0</td>\n",
       "      <td>...</td>\n",
       "      <td>400</td>\n",
       "      <td>1951</td>\n",
       "      <td>1991</td>\n",
       "      <td>98125</td>\n",
       "      <td>47.7210</td>\n",
       "      <td>-122.319</td>\n",
       "      <td>1690</td>\n",
       "      <td>7639</td>\n",
       "      <td>2014-12-09</td>\n",
       "      <td>50</td>\n",
       "    </tr>\n",
       "    <tr>\n",
       "      <th>2</th>\n",
       "      <td>5631500400</td>\n",
       "      <td>20150225</td>\n",
       "      <td>180.0</td>\n",
       "      <td>2</td>\n",
       "      <td>1.00</td>\n",
       "      <td>770</td>\n",
       "      <td>10000</td>\n",
       "      <td>1.0</td>\n",
       "      <td>0</td>\n",
       "      <td>0</td>\n",
       "      <td>...</td>\n",
       "      <td>0</td>\n",
       "      <td>1933</td>\n",
       "      <td>0</td>\n",
       "      <td>98028</td>\n",
       "      <td>47.7379</td>\n",
       "      <td>-122.233</td>\n",
       "      <td>2720</td>\n",
       "      <td>8062</td>\n",
       "      <td>2015-02-25</td>\n",
       "      <td>9</td>\n",
       "    </tr>\n",
       "    <tr>\n",
       "      <th>3</th>\n",
       "      <td>2487200875</td>\n",
       "      <td>20141209</td>\n",
       "      <td>604.0</td>\n",
       "      <td>4</td>\n",
       "      <td>3.00</td>\n",
       "      <td>1960</td>\n",
       "      <td>5000</td>\n",
       "      <td>1.0</td>\n",
       "      <td>0</td>\n",
       "      <td>0</td>\n",
       "      <td>...</td>\n",
       "      <td>910</td>\n",
       "      <td>1965</td>\n",
       "      <td>0</td>\n",
       "      <td>98136</td>\n",
       "      <td>47.5208</td>\n",
       "      <td>-122.393</td>\n",
       "      <td>1360</td>\n",
       "      <td>5000</td>\n",
       "      <td>2014-12-09</td>\n",
       "      <td>50</td>\n",
       "    </tr>\n",
       "    <tr>\n",
       "      <th>4</th>\n",
       "      <td>1954400510</td>\n",
       "      <td>20150218</td>\n",
       "      <td>510.0</td>\n",
       "      <td>3</td>\n",
       "      <td>2.00</td>\n",
       "      <td>1680</td>\n",
       "      <td>8080</td>\n",
       "      <td>1.0</td>\n",
       "      <td>0</td>\n",
       "      <td>0</td>\n",
       "      <td>...</td>\n",
       "      <td>0</td>\n",
       "      <td>1987</td>\n",
       "      <td>0</td>\n",
       "      <td>98074</td>\n",
       "      <td>47.6168</td>\n",
       "      <td>-122.045</td>\n",
       "      <td>1800</td>\n",
       "      <td>7503</td>\n",
       "      <td>2015-02-18</td>\n",
       "      <td>8</td>\n",
       "    </tr>\n",
       "    <tr>\n",
       "      <th>...</th>\n",
       "      <td>...</td>\n",
       "      <td>...</td>\n",
       "      <td>...</td>\n",
       "      <td>...</td>\n",
       "      <td>...</td>\n",
       "      <td>...</td>\n",
       "      <td>...</td>\n",
       "      <td>...</td>\n",
       "      <td>...</td>\n",
       "      <td>...</td>\n",
       "      <td>...</td>\n",
       "      <td>...</td>\n",
       "      <td>...</td>\n",
       "      <td>...</td>\n",
       "      <td>...</td>\n",
       "      <td>...</td>\n",
       "      <td>...</td>\n",
       "      <td>...</td>\n",
       "      <td>...</td>\n",
       "      <td>...</td>\n",
       "      <td>...</td>\n",
       "    </tr>\n",
       "    <tr>\n",
       "      <th>21608</th>\n",
       "      <td>263000018</td>\n",
       "      <td>20140521</td>\n",
       "      <td>360.0</td>\n",
       "      <td>3</td>\n",
       "      <td>2.50</td>\n",
       "      <td>1530</td>\n",
       "      <td>1131</td>\n",
       "      <td>3.0</td>\n",
       "      <td>0</td>\n",
       "      <td>0</td>\n",
       "      <td>...</td>\n",
       "      <td>0</td>\n",
       "      <td>2009</td>\n",
       "      <td>0</td>\n",
       "      <td>98103</td>\n",
       "      <td>47.6993</td>\n",
       "      <td>-122.346</td>\n",
       "      <td>1530</td>\n",
       "      <td>1509</td>\n",
       "      <td>2014-05-21</td>\n",
       "      <td>21</td>\n",
       "    </tr>\n",
       "    <tr>\n",
       "      <th>21609</th>\n",
       "      <td>6600060120</td>\n",
       "      <td>20150223</td>\n",
       "      <td>400.0</td>\n",
       "      <td>4</td>\n",
       "      <td>2.50</td>\n",
       "      <td>2310</td>\n",
       "      <td>5813</td>\n",
       "      <td>2.0</td>\n",
       "      <td>0</td>\n",
       "      <td>0</td>\n",
       "      <td>...</td>\n",
       "      <td>0</td>\n",
       "      <td>2014</td>\n",
       "      <td>0</td>\n",
       "      <td>98146</td>\n",
       "      <td>47.5107</td>\n",
       "      <td>-122.362</td>\n",
       "      <td>1830</td>\n",
       "      <td>7200</td>\n",
       "      <td>2015-02-23</td>\n",
       "      <td>9</td>\n",
       "    </tr>\n",
       "    <tr>\n",
       "      <th>21610</th>\n",
       "      <td>1523300141</td>\n",
       "      <td>20140623</td>\n",
       "      <td>402.0</td>\n",
       "      <td>2</td>\n",
       "      <td>0.75</td>\n",
       "      <td>1020</td>\n",
       "      <td>1350</td>\n",
       "      <td>2.0</td>\n",
       "      <td>0</td>\n",
       "      <td>0</td>\n",
       "      <td>...</td>\n",
       "      <td>0</td>\n",
       "      <td>2009</td>\n",
       "      <td>0</td>\n",
       "      <td>98144</td>\n",
       "      <td>47.5944</td>\n",
       "      <td>-122.299</td>\n",
       "      <td>1020</td>\n",
       "      <td>2007</td>\n",
       "      <td>2014-06-23</td>\n",
       "      <td>26</td>\n",
       "    </tr>\n",
       "    <tr>\n",
       "      <th>21611</th>\n",
       "      <td>291310100</td>\n",
       "      <td>20150116</td>\n",
       "      <td>400.0</td>\n",
       "      <td>3</td>\n",
       "      <td>2.50</td>\n",
       "      <td>1600</td>\n",
       "      <td>2388</td>\n",
       "      <td>2.0</td>\n",
       "      <td>0</td>\n",
       "      <td>0</td>\n",
       "      <td>...</td>\n",
       "      <td>0</td>\n",
       "      <td>2004</td>\n",
       "      <td>0</td>\n",
       "      <td>98027</td>\n",
       "      <td>47.5345</td>\n",
       "      <td>-122.069</td>\n",
       "      <td>1410</td>\n",
       "      <td>1287</td>\n",
       "      <td>2015-01-16</td>\n",
       "      <td>3</td>\n",
       "    </tr>\n",
       "    <tr>\n",
       "      <th>21612</th>\n",
       "      <td>1523300157</td>\n",
       "      <td>20141015</td>\n",
       "      <td>325.0</td>\n",
       "      <td>2</td>\n",
       "      <td>0.75</td>\n",
       "      <td>1020</td>\n",
       "      <td>1076</td>\n",
       "      <td>2.0</td>\n",
       "      <td>0</td>\n",
       "      <td>0</td>\n",
       "      <td>...</td>\n",
       "      <td>0</td>\n",
       "      <td>2008</td>\n",
       "      <td>0</td>\n",
       "      <td>98144</td>\n",
       "      <td>47.5941</td>\n",
       "      <td>-122.299</td>\n",
       "      <td>1020</td>\n",
       "      <td>1357</td>\n",
       "      <td>2014-10-15</td>\n",
       "      <td>42</td>\n",
       "    </tr>\n",
       "  </tbody>\n",
       "</table>\n",
       "<p>21613 rows × 23 columns</p>\n",
       "</div>"
      ],
      "text/plain": [
       "               id      date  price  bedrooms  bathrooms  sqft_living  \\\n",
       "0      7129300520  20141013  222.0         3       1.00         1180   \n",
       "1      6414100192  20141209  538.0         3       2.25         2570   \n",
       "2      5631500400  20150225  180.0         2       1.00          770   \n",
       "3      2487200875  20141209  604.0         4       3.00         1960   \n",
       "4      1954400510  20150218  510.0         3       2.00         1680   \n",
       "...           ...       ...    ...       ...        ...          ...   \n",
       "21608   263000018  20140521  360.0         3       2.50         1530   \n",
       "21609  6600060120  20150223  400.0         4       2.50         2310   \n",
       "21610  1523300141  20140623  402.0         2       0.75         1020   \n",
       "21611   291310100  20150116  400.0         3       2.50         1600   \n",
       "21612  1523300157  20141015  325.0         2       0.75         1020   \n",
       "\n",
       "       sqft_lot  floors  waterfront  view  ...  sqft_basement  yr_built  \\\n",
       "0          5650     1.0           0     0  ...              0      1955   \n",
       "1          7242     2.0           0     0  ...            400      1951   \n",
       "2         10000     1.0           0     0  ...              0      1933   \n",
       "3          5000     1.0           0     0  ...            910      1965   \n",
       "4          8080     1.0           0     0  ...              0      1987   \n",
       "...         ...     ...         ...   ...  ...            ...       ...   \n",
       "21608      1131     3.0           0     0  ...              0      2009   \n",
       "21609      5813     2.0           0     0  ...              0      2014   \n",
       "21610      1350     2.0           0     0  ...              0      2009   \n",
       "21611      2388     2.0           0     0  ...              0      2004   \n",
       "21612      1076     2.0           0     0  ...              0      2008   \n",
       "\n",
       "       yr_renovated  zipcode      lat     long  sqft_living15  sqft_lot15  \\\n",
       "0                 0    98178  47.5112 -122.257           1340        5650   \n",
       "1              1991    98125  47.7210 -122.319           1690        7639   \n",
       "2                 0    98028  47.7379 -122.233           2720        8062   \n",
       "3                 0    98136  47.5208 -122.393           1360        5000   \n",
       "4                 0    98074  47.6168 -122.045           1800        7503   \n",
       "...             ...      ...      ...      ...            ...         ...   \n",
       "21608             0    98103  47.6993 -122.346           1530        1509   \n",
       "21609             0    98146  47.5107 -122.362           1830        7200   \n",
       "21610             0    98144  47.5944 -122.299           1020        2007   \n",
       "21611             0    98027  47.5345 -122.069           1410        1287   \n",
       "21612             0    98144  47.5941 -122.299           1020        1357   \n",
       "\n",
       "       formatted_date  week_of_year  \n",
       "0          2014-10-13            42  \n",
       "1          2014-12-09            50  \n",
       "2          2015-02-25             9  \n",
       "3          2014-12-09            50  \n",
       "4          2015-02-18             8  \n",
       "...               ...           ...  \n",
       "21608      2014-05-21            21  \n",
       "21609      2015-02-23             9  \n",
       "21610      2014-06-23            26  \n",
       "21611      2015-01-16             3  \n",
       "21612      2014-10-15            42  \n",
       "\n",
       "[21613 rows x 23 columns]"
      ]
     },
     "execution_count": 510,
     "metadata": {},
     "output_type": "execute_result"
    }
   ],
   "source": [
    "#converted week of year as a factor features\n",
    "hp_data[\"date\"] = hp_data[\"date\"].str[0:8]\n",
    "hp_data[\"formatted_date\"] = pd.to_datetime(hp_data[\"date\"])\n",
    "hp_data['week_of_year'] = hp_data.formatted_date.apply(lambda x: x.weekofyear)\n",
    "hp_data['price'] = hp_data['price']/1000\n",
    "hp_data.round({'price': 0})\n"
   ]
  },
  {
   "cell_type": "markdown",
   "metadata": {},
   "source": [
    "### Data Prep"
   ]
  },
  {
   "cell_type": "code",
   "execution_count": 572,
   "metadata": {
    "colab": {},
    "colab_type": "code",
    "id": "8vkh_CoWBU5h"
   },
   "outputs": [],
   "source": [
    "#drop unuse features\n",
    "df1 = hp_data.drop([\"id\", \"date\", \"lat\", \"long\", \"sqft_living15\", \"sqft_lot15\",\"formatted_date\",\"week_of_year\"], axis=1)"
   ]
  },
  {
   "cell_type": "code",
   "execution_count": 573,
   "metadata": {},
   "outputs": [],
   "source": [
    "#covert features from numerical to factor\n",
    "df1[['waterfront','zipcode','yr_built','yr_renovated']] = df1[['waterfront','zipcode','yr_built','yr_renovated']].astype('category')"
   ]
  },
  {
   "cell_type": "code",
   "execution_count": 711,
   "metadata": {
    "scrolled": true
   },
   "outputs": [
    {
     "data": {
      "text/html": [
       "<div>\n",
       "<style scoped>\n",
       "    .dataframe tbody tr th:only-of-type {\n",
       "        vertical-align: middle;\n",
       "    }\n",
       "\n",
       "    .dataframe tbody tr th {\n",
       "        vertical-align: top;\n",
       "    }\n",
       "\n",
       "    .dataframe thead th {\n",
       "        text-align: right;\n",
       "    }\n",
       "</style>\n",
       "<table border=\"1\" class=\"dataframe\">\n",
       "  <thead>\n",
       "    <tr style=\"text-align: right;\">\n",
       "      <th></th>\n",
       "      <th>floors</th>\n",
       "      <th>view</th>\n",
       "      <th>condition</th>\n",
       "      <th>grade</th>\n",
       "      <th>sqft_above</th>\n",
       "      <th>sqft_basement</th>\n",
       "      <th>waterfront_0</th>\n",
       "      <th>waterfront_1</th>\n",
       "      <th>yr_built_1900</th>\n",
       "      <th>yr_built_1901</th>\n",
       "      <th>...</th>\n",
       "      <th>zipcode_98146</th>\n",
       "      <th>zipcode_98148</th>\n",
       "      <th>zipcode_98155</th>\n",
       "      <th>zipcode_98166</th>\n",
       "      <th>zipcode_98168</th>\n",
       "      <th>zipcode_98177</th>\n",
       "      <th>zipcode_98178</th>\n",
       "      <th>zipcode_98188</th>\n",
       "      <th>zipcode_98198</th>\n",
       "      <th>zipcode_98199</th>\n",
       "    </tr>\n",
       "  </thead>\n",
       "  <tbody>\n",
       "    <tr>\n",
       "      <th>0</th>\n",
       "      <td>1.0</td>\n",
       "      <td>0</td>\n",
       "      <td>3</td>\n",
       "      <td>7</td>\n",
       "      <td>1180</td>\n",
       "      <td>0</td>\n",
       "      <td>1</td>\n",
       "      <td>0</td>\n",
       "      <td>0</td>\n",
       "      <td>0</td>\n",
       "      <td>...</td>\n",
       "      <td>0</td>\n",
       "      <td>0</td>\n",
       "      <td>0</td>\n",
       "      <td>0</td>\n",
       "      <td>0</td>\n",
       "      <td>0</td>\n",
       "      <td>1</td>\n",
       "      <td>0</td>\n",
       "      <td>0</td>\n",
       "      <td>0</td>\n",
       "    </tr>\n",
       "    <tr>\n",
       "      <th>1</th>\n",
       "      <td>2.0</td>\n",
       "      <td>0</td>\n",
       "      <td>3</td>\n",
       "      <td>7</td>\n",
       "      <td>2170</td>\n",
       "      <td>400</td>\n",
       "      <td>1</td>\n",
       "      <td>0</td>\n",
       "      <td>0</td>\n",
       "      <td>0</td>\n",
       "      <td>...</td>\n",
       "      <td>0</td>\n",
       "      <td>0</td>\n",
       "      <td>0</td>\n",
       "      <td>0</td>\n",
       "      <td>0</td>\n",
       "      <td>0</td>\n",
       "      <td>0</td>\n",
       "      <td>0</td>\n",
       "      <td>0</td>\n",
       "      <td>0</td>\n",
       "    </tr>\n",
       "    <tr>\n",
       "      <th>2</th>\n",
       "      <td>1.0</td>\n",
       "      <td>0</td>\n",
       "      <td>3</td>\n",
       "      <td>6</td>\n",
       "      <td>770</td>\n",
       "      <td>0</td>\n",
       "      <td>1</td>\n",
       "      <td>0</td>\n",
       "      <td>0</td>\n",
       "      <td>0</td>\n",
       "      <td>...</td>\n",
       "      <td>0</td>\n",
       "      <td>0</td>\n",
       "      <td>0</td>\n",
       "      <td>0</td>\n",
       "      <td>0</td>\n",
       "      <td>0</td>\n",
       "      <td>0</td>\n",
       "      <td>0</td>\n",
       "      <td>0</td>\n",
       "      <td>0</td>\n",
       "    </tr>\n",
       "    <tr>\n",
       "      <th>3</th>\n",
       "      <td>1.0</td>\n",
       "      <td>0</td>\n",
       "      <td>5</td>\n",
       "      <td>7</td>\n",
       "      <td>1050</td>\n",
       "      <td>910</td>\n",
       "      <td>1</td>\n",
       "      <td>0</td>\n",
       "      <td>0</td>\n",
       "      <td>0</td>\n",
       "      <td>...</td>\n",
       "      <td>0</td>\n",
       "      <td>0</td>\n",
       "      <td>0</td>\n",
       "      <td>0</td>\n",
       "      <td>0</td>\n",
       "      <td>0</td>\n",
       "      <td>0</td>\n",
       "      <td>0</td>\n",
       "      <td>0</td>\n",
       "      <td>0</td>\n",
       "    </tr>\n",
       "    <tr>\n",
       "      <th>4</th>\n",
       "      <td>1.0</td>\n",
       "      <td>0</td>\n",
       "      <td>3</td>\n",
       "      <td>8</td>\n",
       "      <td>1680</td>\n",
       "      <td>0</td>\n",
       "      <td>1</td>\n",
       "      <td>0</td>\n",
       "      <td>0</td>\n",
       "      <td>0</td>\n",
       "      <td>...</td>\n",
       "      <td>0</td>\n",
       "      <td>0</td>\n",
       "      <td>0</td>\n",
       "      <td>0</td>\n",
       "      <td>0</td>\n",
       "      <td>0</td>\n",
       "      <td>0</td>\n",
       "      <td>0</td>\n",
       "      <td>0</td>\n",
       "      <td>0</td>\n",
       "    </tr>\n",
       "  </tbody>\n",
       "</table>\n",
       "<p>5 rows × 264 columns</p>\n",
       "</div>"
      ],
      "text/plain": [
       "   floors  view  condition  grade  sqft_above  sqft_basement  waterfront_0  \\\n",
       "0     1.0     0          3      7        1180              0             1   \n",
       "1     2.0     0          3      7        2170            400             1   \n",
       "2     1.0     0          3      6         770              0             1   \n",
       "3     1.0     0          5      7        1050            910             1   \n",
       "4     1.0     0          3      8        1680              0             1   \n",
       "\n",
       "   waterfront_1  yr_built_1900  yr_built_1901  ...  zipcode_98146  \\\n",
       "0             0              0              0  ...              0   \n",
       "1             0              0              0  ...              0   \n",
       "2             0              0              0  ...              0   \n",
       "3             0              0              0  ...              0   \n",
       "4             0              0              0  ...              0   \n",
       "\n",
       "   zipcode_98148  zipcode_98155  zipcode_98166  zipcode_98168  zipcode_98177  \\\n",
       "0              0              0              0              0              0   \n",
       "1              0              0              0              0              0   \n",
       "2              0              0              0              0              0   \n",
       "3              0              0              0              0              0   \n",
       "4              0              0              0              0              0   \n",
       "\n",
       "   zipcode_98178  zipcode_98188  zipcode_98198  zipcode_98199  \n",
       "0              1              0              0              0  \n",
       "1              0              0              0              0  \n",
       "2              0              0              0              0  \n",
       "3              0              0              0              0  \n",
       "4              0              0              0              0  \n",
       "\n",
       "[5 rows x 264 columns]"
      ]
     },
     "execution_count": 711,
     "metadata": {},
     "output_type": "execute_result"
    }
   ],
   "source": [
    "df1 = pd.get_dummies(df1)\n",
    "# Display the first 5 rows of the last 12 columns\n",
    "df1.iloc[:,5:].head(5)"
   ]
  },
  {
   "cell_type": "markdown",
   "metadata": {},
   "source": [
    "## Regressiona Tree Model"
   ]
  },
  {
   "cell_type": "code",
   "execution_count": 13,
   "metadata": {},
   "outputs": [],
   "source": [
    "rt_train_dt = df1.sample(frac=0.8, random_state=0)\n",
    "rt_test_dt = df1.drop(rt_train_dt.index)"
   ]
  },
  {
   "cell_type": "code",
   "execution_count": 14,
   "metadata": {
    "scrolled": true
   },
   "outputs": [
    {
     "data": {
      "text/html": [
       "<div>\n",
       "<style scoped>\n",
       "    .dataframe tbody tr th:only-of-type {\n",
       "        vertical-align: middle;\n",
       "    }\n",
       "\n",
       "    .dataframe tbody tr th {\n",
       "        vertical-align: top;\n",
       "    }\n",
       "\n",
       "    .dataframe thead th {\n",
       "        text-align: right;\n",
       "    }\n",
       "</style>\n",
       "<table border=\"1\" class=\"dataframe\">\n",
       "  <thead>\n",
       "    <tr style=\"text-align: right;\">\n",
       "      <th></th>\n",
       "      <th>price</th>\n",
       "      <th>bedrooms</th>\n",
       "      <th>bathrooms</th>\n",
       "      <th>sqft_living</th>\n",
       "      <th>sqft_lot</th>\n",
       "      <th>floors</th>\n",
       "      <th>sqft_above</th>\n",
       "      <th>sqft_basement</th>\n",
       "      <th>waterfront_0</th>\n",
       "      <th>waterfront_1</th>\n",
       "      <th>...</th>\n",
       "      <th>week_of_year_43</th>\n",
       "      <th>week_of_year_44</th>\n",
       "      <th>week_of_year_45</th>\n",
       "      <th>week_of_year_46</th>\n",
       "      <th>week_of_year_47</th>\n",
       "      <th>week_of_year_48</th>\n",
       "      <th>week_of_year_49</th>\n",
       "      <th>week_of_year_50</th>\n",
       "      <th>week_of_year_51</th>\n",
       "      <th>week_of_year_52</th>\n",
       "    </tr>\n",
       "  </thead>\n",
       "  <tbody>\n",
       "    <tr>\n",
       "      <th>0</th>\n",
       "      <td>221900.0</td>\n",
       "      <td>3</td>\n",
       "      <td>1.00</td>\n",
       "      <td>1180</td>\n",
       "      <td>5650</td>\n",
       "      <td>1.0</td>\n",
       "      <td>1180</td>\n",
       "      <td>0</td>\n",
       "      <td>1</td>\n",
       "      <td>0</td>\n",
       "      <td>...</td>\n",
       "      <td>0</td>\n",
       "      <td>0</td>\n",
       "      <td>0</td>\n",
       "      <td>0</td>\n",
       "      <td>0</td>\n",
       "      <td>0</td>\n",
       "      <td>0</td>\n",
       "      <td>0</td>\n",
       "      <td>0</td>\n",
       "      <td>0</td>\n",
       "    </tr>\n",
       "    <tr>\n",
       "      <th>1</th>\n",
       "      <td>538000.0</td>\n",
       "      <td>3</td>\n",
       "      <td>2.25</td>\n",
       "      <td>2570</td>\n",
       "      <td>7242</td>\n",
       "      <td>2.0</td>\n",
       "      <td>2170</td>\n",
       "      <td>400</td>\n",
       "      <td>1</td>\n",
       "      <td>0</td>\n",
       "      <td>...</td>\n",
       "      <td>0</td>\n",
       "      <td>0</td>\n",
       "      <td>0</td>\n",
       "      <td>0</td>\n",
       "      <td>0</td>\n",
       "      <td>0</td>\n",
       "      <td>0</td>\n",
       "      <td>1</td>\n",
       "      <td>0</td>\n",
       "      <td>0</td>\n",
       "    </tr>\n",
       "    <tr>\n",
       "      <th>2</th>\n",
       "      <td>180000.0</td>\n",
       "      <td>2</td>\n",
       "      <td>1.00</td>\n",
       "      <td>770</td>\n",
       "      <td>10000</td>\n",
       "      <td>1.0</td>\n",
       "      <td>770</td>\n",
       "      <td>0</td>\n",
       "      <td>1</td>\n",
       "      <td>0</td>\n",
       "      <td>...</td>\n",
       "      <td>0</td>\n",
       "      <td>0</td>\n",
       "      <td>0</td>\n",
       "      <td>0</td>\n",
       "      <td>0</td>\n",
       "      <td>0</td>\n",
       "      <td>0</td>\n",
       "      <td>0</td>\n",
       "      <td>0</td>\n",
       "      <td>0</td>\n",
       "    </tr>\n",
       "    <tr>\n",
       "      <th>3</th>\n",
       "      <td>604000.0</td>\n",
       "      <td>4</td>\n",
       "      <td>3.00</td>\n",
       "      <td>1960</td>\n",
       "      <td>5000</td>\n",
       "      <td>1.0</td>\n",
       "      <td>1050</td>\n",
       "      <td>910</td>\n",
       "      <td>1</td>\n",
       "      <td>0</td>\n",
       "      <td>...</td>\n",
       "      <td>0</td>\n",
       "      <td>0</td>\n",
       "      <td>0</td>\n",
       "      <td>0</td>\n",
       "      <td>0</td>\n",
       "      <td>0</td>\n",
       "      <td>0</td>\n",
       "      <td>1</td>\n",
       "      <td>0</td>\n",
       "      <td>0</td>\n",
       "    </tr>\n",
       "    <tr>\n",
       "      <th>4</th>\n",
       "      <td>510000.0</td>\n",
       "      <td>3</td>\n",
       "      <td>2.00</td>\n",
       "      <td>1680</td>\n",
       "      <td>8080</td>\n",
       "      <td>1.0</td>\n",
       "      <td>1680</td>\n",
       "      <td>0</td>\n",
       "      <td>1</td>\n",
       "      <td>0</td>\n",
       "      <td>...</td>\n",
       "      <td>0</td>\n",
       "      <td>0</td>\n",
       "      <td>0</td>\n",
       "      <td>0</td>\n",
       "      <td>0</td>\n",
       "      <td>0</td>\n",
       "      <td>0</td>\n",
       "      <td>0</td>\n",
       "      <td>0</td>\n",
       "      <td>0</td>\n",
       "    </tr>\n",
       "  </tbody>\n",
       "</table>\n",
       "<p>5 rows × 340 columns</p>\n",
       "</div>"
      ],
      "text/plain": [
       "      price  bedrooms  bathrooms  sqft_living  sqft_lot  floors  sqft_above  \\\n",
       "0  221900.0         3       1.00         1180      5650     1.0        1180   \n",
       "1  538000.0         3       2.25         2570      7242     2.0        2170   \n",
       "2  180000.0         2       1.00          770     10000     1.0         770   \n",
       "3  604000.0         4       3.00         1960      5000     1.0        1050   \n",
       "4  510000.0         3       2.00         1680      8080     1.0        1680   \n",
       "\n",
       "   sqft_basement  waterfront_0  waterfront_1  ...  week_of_year_43  \\\n",
       "0              0             1             0  ...                0   \n",
       "1            400             1             0  ...                0   \n",
       "2              0             1             0  ...                0   \n",
       "3            910             1             0  ...                0   \n",
       "4              0             1             0  ...                0   \n",
       "\n",
       "   week_of_year_44  week_of_year_45  week_of_year_46  week_of_year_47  \\\n",
       "0                0                0                0                0   \n",
       "1                0                0                0                0   \n",
       "2                0                0                0                0   \n",
       "3                0                0                0                0   \n",
       "4                0                0                0                0   \n",
       "\n",
       "   week_of_year_48  week_of_year_49  week_of_year_50  week_of_year_51  \\\n",
       "0                0                0                0                0   \n",
       "1                0                0                1                0   \n",
       "2                0                0                0                0   \n",
       "3                0                0                1                0   \n",
       "4                0                0                0                0   \n",
       "\n",
       "   week_of_year_52  \n",
       "0                0  \n",
       "1                0  \n",
       "2                0  \n",
       "3                0  \n",
       "4                0  \n",
       "\n",
       "[5 rows x 340 columns]"
      ]
     },
     "execution_count": 14,
     "metadata": {},
     "output_type": "execute_result"
    }
   ],
   "source": [
    "df1.head()"
   ]
  },
  {
   "cell_type": "code",
   "execution_count": 15,
   "metadata": {},
   "outputs": [],
   "source": [
    "# regression tree method\n",
    "rt_train_x = rt_train_dt.drop([\"price\"], axis=1)\n",
    "rt_train_y = rt_train_dt[[\"price\"]]"
   ]
  },
  {
   "cell_type": "code",
   "execution_count": 16,
   "metadata": {},
   "outputs": [
    {
     "data": {
      "text/plain": [
       "DecisionTreeRegressor(ccp_alpha=0.0, criterion='mse', max_depth=None,\n",
       "                      max_features=None, max_leaf_nodes=None,\n",
       "                      min_impurity_decrease=0.0, min_impurity_split=None,\n",
       "                      min_samples_leaf=1, min_samples_split=2,\n",
       "                      min_weight_fraction_leaf=0.0, presort='deprecated',\n",
       "                      random_state=None, splitter='best')"
      ]
     },
     "execution_count": 16,
     "metadata": {},
     "output_type": "execute_result"
    }
   ],
   "source": [
    "rt = tree.DecisionTreeRegressor()\n",
    "rt.fit(rt_train_x, rt_train_y)"
   ]
  },
  {
   "cell_type": "code",
   "execution_count": 17,
   "metadata": {},
   "outputs": [],
   "source": [
    "#predicted price from the regression tree\n",
    "rt_predict_price = pd.DataFrame(rt.predict(rt_test_dt.drop([\"price\"], axis=1)), columns=[\"p_price\"])"
   ]
  },
  {
   "cell_type": "code",
   "execution_count": 18,
   "metadata": {},
   "outputs": [],
   "source": [
    "#add row number to predicted price for merging\n",
    "rt_predict_price['index'] = np.arange(len(rt_predict_price))"
   ]
  },
  {
   "cell_type": "code",
   "execution_count": 19,
   "metadata": {},
   "outputs": [
    {
     "name": "stderr",
     "output_type": "stream",
     "text": [
      "/Users/junjiewu/opt/anaconda3/lib/python3.7/site-packages/ipykernel_launcher.py:3: SettingWithCopyWarning: \n",
      "A value is trying to be set on a copy of a slice from a DataFrame.\n",
      "Try using .loc[row_indexer,col_indexer] = value instead\n",
      "\n",
      "See the caveats in the documentation: https://pandas.pydata.org/pandas-docs/stable/user_guide/indexing.html#returning-a-view-versus-a-copy\n",
      "  This is separate from the ipykernel package so we can avoid doing imports until\n"
     ]
    }
   ],
   "source": [
    "#add row number to true price for merging\n",
    "rt_test_price = rt_test_dt[['price']]\n",
    "rt_test_price['index'] = np.arange(len(rt_test_price))"
   ]
  },
  {
   "cell_type": "code",
   "execution_count": 22,
   "metadata": {},
   "outputs": [],
   "source": [
    "#merge predicted and test price in to a df\n",
    "rt_price = rt_predict_price.merge(rt_test_price, left_on='index', right_on='index').round(0)"
   ]
  },
  {
   "cell_type": "code",
   "execution_count": 24,
   "metadata": {},
   "outputs": [
    {
     "name": "stdout",
     "output_type": "stream",
     "text": [
      "Mean Absolute Error: 112253.62 USD.\n"
     ]
    }
   ],
   "source": [
    "# Calculate the absolute errors\n",
    "rt_errors = abs(rt_price['p_price'] - rt_price['price'])\n",
    "# Print out the mean absolute error (mae)\n",
    "print('Mean Absolute Error:', round(np.mean(rt_errors), 2), 'USD.')"
   ]
  },
  {
   "cell_type": "code",
   "execution_count": 25,
   "metadata": {},
   "outputs": [
    {
     "name": "stdout",
     "output_type": "stream",
     "text": [
      "Accuracy: 78.8 %.\n"
     ]
    }
   ],
   "source": [
    "# Calculate mean absolute percentage error (MAPE)\n",
    "rt_mape = 100 * (rt_errors / rt_price['price'])\n",
    "# Calculate and display accuracy\n",
    "rt_accuracy = 100 - np.mean(rt_mape)\n",
    "print('Accuracy:', round(rt_accuracy, 2), '%.')\n",
    "\n",
    "#Accuracy: 78.74 %."
   ]
  },
  {
   "cell_type": "code",
   "execution_count": 27,
   "metadata": {},
   "outputs": [
    {
     "data": {
      "text/plain": [
       "39923938685.444595"
      ]
     },
     "execution_count": 27,
     "metadata": {},
     "output_type": "execute_result"
    }
   ],
   "source": [
    "#MSE\n",
    "from sklearn.metrics import mean_squared_error\n",
    "\n",
    "mean_squared_error(rt_price['price'], rt_price['p_price'])\n",
    "\n",
    "#39037669760.21212"
   ]
  },
  {
   "cell_type": "markdown",
   "metadata": {},
   "source": [
    "## Random Forest"
   ]
  },
  {
   "cell_type": "code",
   "execution_count": 622,
   "metadata": {},
   "outputs": [],
   "source": [
    "# Labels are the values we want to predict\n",
    "rf_labels = np.array(df1['price'])\n",
    "# Remove the labels from the features\n",
    "# axis 1 refers to the columns\n",
    "rf_features= df1.drop('price', axis = 1)\n",
    "# Saving feature names for later use\n",
    "rf_feature_list = list(rf_features.columns)\n",
    "# Convert to numpy array\n",
    "rf_features = np.array(rf_features)\n",
    "#normalize features\n",
    "rf_features = rf_features / np.linalg.norm(rf_features)"
   ]
  },
  {
   "cell_type": "code",
   "execution_count": 623,
   "metadata": {},
   "outputs": [],
   "source": [
    "# Using Skicit-learn to split data into training and testing sets\n",
    "from sklearn.model_selection import train_test_split\n",
    "# Split the data into training and testing sets\n",
    "rf_train_features, rf_test_features, rf_train_labels, rf_test_labels = train_test_split(rf_features, rf_labels, test_size = 0.1, random_state = 42)"
   ]
  },
  {
   "cell_type": "code",
   "execution_count": 749,
   "metadata": {},
   "outputs": [
    {
     "name": "stdout",
     "output_type": "stream",
     "text": [
      "Training Features Shape: (19451, 268)\n",
      "Training Labels Shape: (19451,)\n",
      "Testing Features Shape: (2162, 268)\n",
      "Testing Labels Shape: (2162,)\n"
     ]
    }
   ],
   "source": [
    "print('Training Features Shape:', rf_train_features.shape)\n",
    "print('Training Labels Shape:', rf_train_labels.shape)\n",
    "print('Testing Features Shape:', rf_test_features.shape)\n",
    "print('Testing Labels Shape:', rf_test_labels.shape)\n"
   ]
  },
  {
   "cell_type": "code",
   "execution_count": 752,
   "metadata": {},
   "outputs": [
    {
     "name": "stdout",
     "output_type": "stream",
     "text": [
      "Time:  560.4503342730168\n"
     ]
    }
   ],
   "source": [
    "# Import the model we are using\n",
    "from sklearn.ensemble import RandomForestRegressor\n",
    "# Instantiate model with 1000 decision trees\n",
    "rf = RandomForestRegressor(n_estimators = 1000, random_state = 42)\n",
    "\n",
    "import timeit\n",
    "start = timeit.default_timer()\n",
    "\n",
    "# Train the model on training data\n",
    "rf.fit(rf_train_features, rf_train_labels);\n",
    "\n",
    "stop = timeit.default_timer()\n",
    "print('Time: ', stop - start)  \n",
    "\n",
    "#n=1000 runtime 560s"
   ]
  },
  {
   "cell_type": "code",
   "execution_count": 807,
   "metadata": {},
   "outputs": [
    {
     "ename": "IndexError",
     "evalue": "list index out of range",
     "output_type": "error",
     "traceback": [
      "\u001b[0;31m---------------------------------------------------------------------------\u001b[0m",
      "\u001b[0;31mIndexError\u001b[0m                                Traceback (most recent call last)",
      "\u001b[0;32m<ipython-input-807-0a128a01a915>\u001b[0m in \u001b[0;36m<module>\u001b[0;34m\u001b[0m\n\u001b[1;32m      1\u001b[0m \u001b[0;31m# Use the forest's predict method on the test data\u001b[0m\u001b[0;34m\u001b[0m\u001b[0;34m\u001b[0m\u001b[0;34m\u001b[0m\u001b[0m\n\u001b[0;32m----> 2\u001b[0;31m \u001b[0mrf_predictions\u001b[0m \u001b[0;34m=\u001b[0m \u001b[0mrf\u001b[0m\u001b[0;34m.\u001b[0m\u001b[0mpredict\u001b[0m\u001b[0;34m(\u001b[0m\u001b[0mrf_test_features\u001b[0m\u001b[0;34m)\u001b[0m\u001b[0;34m\u001b[0m\u001b[0;34m\u001b[0m\u001b[0m\n\u001b[0m\u001b[1;32m      3\u001b[0m \u001b[0;31m# Calculate the absolute errors\u001b[0m\u001b[0;34m\u001b[0m\u001b[0;34m\u001b[0m\u001b[0;34m\u001b[0m\u001b[0m\n\u001b[1;32m      4\u001b[0m \u001b[0mrf_errors\u001b[0m \u001b[0;34m=\u001b[0m \u001b[0mabs\u001b[0m\u001b[0;34m(\u001b[0m\u001b[0mrf_predictions\u001b[0m \u001b[0;34m-\u001b[0m \u001b[0mrf_test_labels\u001b[0m\u001b[0;34m)\u001b[0m\u001b[0;34m\u001b[0m\u001b[0;34m\u001b[0m\u001b[0m\n\u001b[1;32m      5\u001b[0m \u001b[0;31m# Print out the mean absolute error (mae)\u001b[0m\u001b[0;34m\u001b[0m\u001b[0;34m\u001b[0m\u001b[0;34m\u001b[0m\u001b[0m\n",
      "\u001b[0;32m~/opt/anaconda3/lib/python3.7/site-packages/sklearn/ensemble/_forest.py\u001b[0m in \u001b[0;36mpredict\u001b[0;34m(self, X)\u001b[0m\n\u001b[1;32m    764\u001b[0m         \u001b[0mcheck_is_fitted\u001b[0m\u001b[0;34m(\u001b[0m\u001b[0mself\u001b[0m\u001b[0;34m)\u001b[0m\u001b[0;34m\u001b[0m\u001b[0;34m\u001b[0m\u001b[0m\n\u001b[1;32m    765\u001b[0m         \u001b[0;31m# Check data\u001b[0m\u001b[0;34m\u001b[0m\u001b[0;34m\u001b[0m\u001b[0;34m\u001b[0m\u001b[0m\n\u001b[0;32m--> 766\u001b[0;31m         \u001b[0mX\u001b[0m \u001b[0;34m=\u001b[0m \u001b[0mself\u001b[0m\u001b[0;34m.\u001b[0m\u001b[0m_validate_X_predict\u001b[0m\u001b[0;34m(\u001b[0m\u001b[0mX\u001b[0m\u001b[0;34m)\u001b[0m\u001b[0;34m\u001b[0m\u001b[0;34m\u001b[0m\u001b[0m\n\u001b[0m\u001b[1;32m    767\u001b[0m \u001b[0;34m\u001b[0m\u001b[0m\n\u001b[1;32m    768\u001b[0m         \u001b[0;31m# Assign chunk of trees to jobs\u001b[0m\u001b[0;34m\u001b[0m\u001b[0;34m\u001b[0m\u001b[0;34m\u001b[0m\u001b[0m\n",
      "\u001b[0;32m~/opt/anaconda3/lib/python3.7/site-packages/sklearn/ensemble/_forest.py\u001b[0m in \u001b[0;36m_validate_X_predict\u001b[0;34m(self, X)\u001b[0m\n\u001b[1;32m    410\u001b[0m         \u001b[0mcheck_is_fitted\u001b[0m\u001b[0;34m(\u001b[0m\u001b[0mself\u001b[0m\u001b[0;34m)\u001b[0m\u001b[0;34m\u001b[0m\u001b[0;34m\u001b[0m\u001b[0m\n\u001b[1;32m    411\u001b[0m \u001b[0;34m\u001b[0m\u001b[0m\n\u001b[0;32m--> 412\u001b[0;31m         \u001b[0;32mreturn\u001b[0m \u001b[0mself\u001b[0m\u001b[0;34m.\u001b[0m\u001b[0mestimators_\u001b[0m\u001b[0;34m[\u001b[0m\u001b[0;36m0\u001b[0m\u001b[0;34m]\u001b[0m\u001b[0;34m.\u001b[0m\u001b[0m_validate_X_predict\u001b[0m\u001b[0;34m(\u001b[0m\u001b[0mX\u001b[0m\u001b[0;34m,\u001b[0m \u001b[0mcheck_input\u001b[0m\u001b[0;34m=\u001b[0m\u001b[0;32mTrue\u001b[0m\u001b[0;34m)\u001b[0m\u001b[0;34m\u001b[0m\u001b[0;34m\u001b[0m\u001b[0m\n\u001b[0m\u001b[1;32m    413\u001b[0m \u001b[0;34m\u001b[0m\u001b[0m\n\u001b[1;32m    414\u001b[0m     \u001b[0;34m@\u001b[0m\u001b[0mproperty\u001b[0m\u001b[0;34m\u001b[0m\u001b[0;34m\u001b[0m\u001b[0m\n",
      "\u001b[0;31mIndexError\u001b[0m: list index out of range"
     ]
    }
   ],
   "source": [
    "# Use the forest's predict method on the test data\n",
    "rf_predictions = rf.predict(rf_test_features)\n",
    "# Calculate the absolute errors\n",
    "rf_errors = abs(rf_predictions - rf_test_labels)\n",
    "# Print out the mean absolute error (mae)\n",
    "print('Mean Absolute Error:', round(np.mean(rf_errors), 2), 'thousands USD')\n",
    "\n",
    "#set grade, view, condition, as numerical variable, \n",
    "#year as factor\n",
    "#n=100, 87758.11\n",
    "\n",
    "#year as numeric\n",
    "#n=100, 87997.43 \n",
    "\n",
    "#normalized features\n",
    "#year as factor\n",
    "#n=1000,  86.72\n"
   ]
  },
  {
   "cell_type": "code",
   "execution_count": 760,
   "metadata": {},
   "outputs": [
    {
     "data": {
      "image/png": "[encoded data removed]",
      "text/plain": [
       "<Figure size 1440x720 with 1 Axes>"
      ]
     },
     "metadata": {},
     "output_type": "display_data"
    }
   ],
   "source": [
    "plt.scatter(rf_test_labels, rf_predictions)\n",
    "plt.xlabel('True Values [price]')\n",
    "plt.ylabel('Predictions [pirce]')\n",
    "plt.rcParams['figure.figsize'] = [20, 10]\n",
    "lims = [0, 6000]\n",
    "plt.xlim(lims)\n",
    "plt.ylim(lims)\n",
    "_ = plt.plot(lims, lims)"
   ]
  },
  {
   "cell_type": "code",
   "execution_count": 632,
   "metadata": {},
   "outputs": [
    {
     "data": {
      "text/plain": [
       "0.8267292126416768"
      ]
     },
     "execution_count": 632,
     "metadata": {},
     "output_type": "execute_result"
    }
   ],
   "source": [
    "#R2 Score\n",
    "rf_accuracy = metrics.r2_score(rf_test_labels, rf_predictions)\n",
    "rf_accuracy"
   ]
  },
  {
   "cell_type": "code",
   "execution_count": 629,
   "metadata": {},
   "outputs": [
    {
     "name": "stdout",
     "output_type": "stream",
     "text": [
      "Accuracy: 84.11 %.\n"
     ]
    }
   ],
   "source": [
    "# Calculate mean absolute percentage error (MAPE)\n",
    "rf_mape = 100 * (rf_errors / rf_test_labels)\n",
    "# Calculate and display accuracy\n",
    "rf_accuracy = 100 - np.mean(rf_mape)\n",
    "print('Accuracy:', round(rf_accuracy, 2), '%.')\n",
    "\n",
    "#year as factors\n",
    "#n=100, 83.57%\n",
    "#n=500, 83.72%\n",
    "#n=1000, 83.74%\n",
    "\n",
    "#year as numerical\n",
    "#n=100, 83.57%\n",
    "#n=1000, 83.49%\n",
    "\n",
    "#normalized features\n",
    "#n=500, 84.04\n",
    "#n=1000, 84.06%\n"
   ]
  },
  {
   "cell_type": "code",
   "execution_count": 620,
   "metadata": {},
   "outputs": [],
   "source": [
    "# Necessary imports: \n",
    "from sklearn.model_selection import cross_val_score, cross_val_predict\n",
    "from sklearn import metrics"
   ]
  },
  {
   "cell_type": "code",
   "execution_count": 710,
   "metadata": {},
   "outputs": [],
   "source": [
    "# # Perform 5-fold cross validation\n",
    "# cv_predictions = cross_val_predict(rf, rf_features, rf_labels, cv=5)\n",
    "# plt.scatter(rf_labels, cv_predictions)"
   ]
  },
  {
   "cell_type": "code",
   "execution_count": null,
   "metadata": {},
   "outputs": [],
   "source": [
    "accuracy = metrics.r2_score(rf_labels, cv_prediction)\n",
    "accuracy"
   ]
  },
  {
   "cell_type": "markdown",
   "metadata": {},
   "source": [
    "### Variable Importances"
   ]
  },
  {
   "cell_type": "code",
   "execution_count": 738,
   "metadata": {
    "scrolled": true
   },
   "outputs": [
    {
     "name": "stdout",
     "output_type": "stream",
     "text": [
      "Variable: grade                Importance: 0.3555\n",
      "Variable: sqft_living          Importance: 0.2585\n",
      "Variable: sqft_lot             Importance: 0.0391\n",
      "Variable: zipcode_98004        Importance: 0.0341\n",
      "Variable: view                 Importance: 0.0334\n",
      "Variable: sqft_above           Importance: 0.0219\n",
      "Variable: zipcode_98112        Importance: 0.0189\n",
      "Variable: sqft_basement        Importance: 0.0182\n",
      "Variable: zipcode_98039        Importance: 0.0171\n",
      "Variable: waterfront_1         Importance: 0.0166\n",
      "Variable: waterfront_0         Importance: 0.0138\n",
      "Variable: condition            Importance: 0.0136\n",
      "Variable: zipcode_98040        Importance: 0.0106\n",
      "Variable: zipcode_98033        Importance: 0.007\n",
      "Variable: zipcode_98105        Importance: 0.0055\n",
      "Variable: bedrooms             Importance: 0.0054\n",
      "Variable: zipcode_98023        Importance: 0.0054\n",
      "Variable: yr_renovated_0       Importance: 0.0042\n",
      "Variable: zipcode_98119        Importance: 0.0042\n",
      "Variable: zipcode_98115        Importance: 0.0038\n",
      "Variable: zipcode_98042        Importance: 0.0034\n",
      "Variable: zipcode_98103        Importance: 0.0032\n",
      "Variable: zipcode_98092        Importance: 0.0031\n",
      "Variable: zipcode_98199        Importance: 0.0031\n",
      "Variable: zipcode_98006        Importance: 0.0024\n",
      "Variable: bathrooms            Importance: 0.0023\n",
      "Variable: zipcode_98109        Importance: 0.0022\n",
      "Variable: zipcode_98003        Importance: 0.0021\n",
      "Variable: zipcode_98038        Importance: 0.0021\n",
      "Variable: zipcode_98117        Importance: 0.0021\n",
      "Variable: zipcode_98001        Importance: 0.002\n",
      "Variable: zipcode_98052        Importance: 0.002\n",
      "Variable: zipcode_98058        Importance: 0.0019\n",
      "Variable: zipcode_98102        Importance: 0.0019\n",
      "Variable: zipcode_98005        Importance: 0.0017\n",
      "Variable: yr_built_1969        Importance: 0.0016\n",
      "Variable: zipcode_98122        Importance: 0.0016\n",
      "Variable: zipcode_98008        Importance: 0.0015\n",
      "Variable: zipcode_98030        Importance: 0.0015\n",
      "Variable: zipcode_98034        Importance: 0.0015\n",
      "Variable: zipcode_98144        Importance: 0.0015\n",
      "Variable: zipcode_98031        Importance: 0.0014\n",
      "Variable: zipcode_98075        Importance: 0.0013\n",
      "Variable: zipcode_98107        Importance: 0.0013\n",
      "Variable: zipcode_98116        Importance: 0.0012\n",
      "Variable: floors               Importance: 0.0011\n",
      "Variable: yr_built_1961        Importance: 0.0011\n",
      "Variable: zipcode_98053        Importance: 0.0011\n",
      "Variable: zipcode_98177        Importance: 0.0011\n",
      "Variable: zipcode_98055        Importance: 0.001\n",
      "Variable: zipcode_98125        Importance: 0.001\n",
      "Variable: zipcode_98065        Importance: 0.0009\n",
      "Variable: zipcode_98074        Importance: 0.0009\n",
      "Variable: zipcode_98118        Importance: 0.0009\n",
      "Variable: zipcode_98198        Importance: 0.0009\n",
      "Variable: yr_built_1973        Importance: 0.0008\n",
      "Variable: yr_built_2014        Importance: 0.0008\n",
      "Variable: yr_renovated_1987    Importance: 0.0008\n",
      "Variable: zipcode_98022        Importance: 0.0008\n",
      "Variable: zipcode_98027        Importance: 0.0008\n",
      "Variable: zipcode_98032        Importance: 0.0008\n",
      "Variable: zipcode_98059        Importance: 0.0008\n",
      "Variable: zipcode_98133        Importance: 0.0008\n",
      "Variable: yr_built_1928        Importance: 0.0007\n",
      "Variable: yr_built_2006        Importance: 0.0007\n",
      "Variable: yr_built_2008        Importance: 0.0007\n",
      "Variable: zipcode_98007        Importance: 0.0007\n",
      "Variable: zipcode_98106        Importance: 0.0007\n",
      "Variable: zipcode_98136        Importance: 0.0007\n",
      "Variable: zipcode_98155        Importance: 0.0007\n",
      "Variable: yr_built_1923        Importance: 0.0006\n",
      "Variable: yr_built_1939        Importance: 0.0006\n",
      "Variable: yr_built_2003        Importance: 0.0006\n",
      "Variable: zipcode_98002        Importance: 0.0006\n",
      "Variable: zipcode_98056        Importance: 0.0006\n",
      "Variable: zipcode_98126        Importance: 0.0006\n",
      "Variable: zipcode_98166        Importance: 0.0006\n",
      "Variable: zipcode_98178        Importance: 0.0006\n",
      "Variable: yr_built_1910        Importance: 0.0005\n",
      "Variable: yr_built_1926        Importance: 0.0005\n",
      "Variable: yr_built_1940        Importance: 0.0005\n",
      "Variable: yr_built_1950        Importance: 0.0005\n",
      "Variable: yr_built_1968        Importance: 0.0005\n",
      "Variable: yr_built_1976        Importance: 0.0005\n",
      "Variable: yr_built_1990        Importance: 0.0005\n",
      "Variable: yr_built_2005        Importance: 0.0005\n",
      "Variable: yr_built_2007        Importance: 0.0005\n",
      "Variable: yr_renovated_2009    Importance: 0.0005\n",
      "Variable: zipcode_98028        Importance: 0.0005\n",
      "Variable: zipcode_98029        Importance: 0.0005\n",
      "Variable: zipcode_98072        Importance: 0.0005\n",
      "Variable: yr_built_1906        Importance: 0.0004\n",
      "Variable: yr_built_1907        Importance: 0.0004\n",
      "Variable: yr_built_1909        Importance: 0.0004\n",
      "Variable: yr_built_1927        Importance: 0.0004\n",
      "Variable: yr_built_1946        Importance: 0.0004\n",
      "Variable: yr_built_1949        Importance: 0.0004\n",
      "Variable: yr_built_1951        Importance: 0.0004\n",
      "Variable: yr_built_1952        Importance: 0.0004\n",
      "Variable: yr_built_1953        Importance: 0.0004\n",
      "Variable: yr_built_1959        Importance: 0.0004\n",
      "Variable: yr_built_1978        Importance: 0.0004\n",
      "Variable: yr_built_1989        Importance: 0.0004\n",
      "Variable: yr_built_1991        Importance: 0.0004\n",
      "Variable: yr_built_1997        Importance: 0.0004\n",
      "Variable: yr_built_2001        Importance: 0.0004\n",
      "Variable: yr_built_2004        Importance: 0.0004\n",
      "Variable: yr_built_2010        Importance: 0.0004\n",
      "Variable: yr_built_2011        Importance: 0.0004\n",
      "Variable: yr_built_2013        Importance: 0.0004\n",
      "Variable: yr_built_2015        Importance: 0.0004\n",
      "Variable: zipcode_98011        Importance: 0.0004\n",
      "Variable: zipcode_98108        Importance: 0.0004\n",
      "Variable: yr_built_1900        Importance: 0.0003\n",
      "Variable: yr_built_1911        Importance: 0.0003\n",
      "Variable: yr_built_1912        Importance: 0.0003\n",
      "Variable: yr_built_1914        Importance: 0.0003\n",
      "Variable: yr_built_1919        Importance: 0.0003\n",
      "Variable: yr_built_1924        Importance: 0.0003\n",
      "Variable: yr_built_1925        Importance: 0.0003\n",
      "Variable: yr_built_1930        Importance: 0.0003\n",
      "Variable: yr_built_1936        Importance: 0.0003\n",
      "Variable: yr_built_1941        Importance: 0.0003\n",
      "Variable: yr_built_1948        Importance: 0.0003\n",
      "Variable: yr_built_1954        Importance: 0.0003\n",
      "Variable: yr_built_1955        Importance: 0.0003\n",
      "Variable: yr_built_1957        Importance: 0.0003\n",
      "Variable: yr_built_1962        Importance: 0.0003\n",
      "Variable: yr_built_1963        Importance: 0.0003\n",
      "Variable: yr_built_1967        Importance: 0.0003\n",
      "Variable: yr_built_1977        Importance: 0.0003\n",
      "Variable: yr_built_1979        Importance: 0.0003\n",
      "Variable: yr_built_1980        Importance: 0.0003\n",
      "Variable: yr_built_1982        Importance: 0.0003\n",
      "Variable: yr_built_1983        Importance: 0.0003\n",
      "Variable: yr_built_1984        Importance: 0.0003\n",
      "Variable: yr_built_1987        Importance: 0.0003\n",
      "Variable: yr_built_1988        Importance: 0.0003\n",
      "Variable: yr_built_1995        Importance: 0.0003\n",
      "Variable: yr_built_1996        Importance: 0.0003\n",
      "Variable: yr_built_1999        Importance: 0.0003\n",
      "Variable: yr_built_2000        Importance: 0.0003\n",
      "Variable: zipcode_98019        Importance: 0.0003\n",
      "Variable: zipcode_98146        Importance: 0.0003\n",
      "Variable: zipcode_98168        Importance: 0.0003\n",
      "Variable: zipcode_98188        Importance: 0.0003\n",
      "Variable: yr_built_1902        Importance: 0.0002\n",
      "Variable: yr_built_1905        Importance: 0.0002\n",
      "Variable: yr_built_1908        Importance: 0.0002\n",
      "Variable: yr_built_1913        Importance: 0.0002\n",
      "Variable: yr_built_1915        Importance: 0.0002\n",
      "Variable: yr_built_1916        Importance: 0.0002\n",
      "Variable: yr_built_1918        Importance: 0.0002\n",
      "Variable: yr_built_1920        Importance: 0.0002\n",
      "Variable: yr_built_1921        Importance: 0.0002\n",
      "Variable: yr_built_1922        Importance: 0.0002\n",
      "Variable: yr_built_1929        Importance: 0.0002\n",
      "Variable: yr_built_1931        Importance: 0.0002\n",
      "Variable: yr_built_1937        Importance: 0.0002\n",
      "Variable: yr_built_1938        Importance: 0.0002\n",
      "Variable: yr_built_1942        Importance: 0.0002\n",
      "Variable: yr_built_1945        Importance: 0.0002\n",
      "Variable: yr_built_1947        Importance: 0.0002\n",
      "Variable: yr_built_1956        Importance: 0.0002\n",
      "Variable: yr_built_1958        Importance: 0.0002\n",
      "Variable: yr_built_1960        Importance: 0.0002\n",
      "Variable: yr_built_1964        Importance: 0.0002\n",
      "Variable: yr_built_1965        Importance: 0.0002\n",
      "Variable: yr_built_1966        Importance: 0.0002\n",
      "Variable: yr_built_1972        Importance: 0.0002\n",
      "Variable: yr_built_1975        Importance: 0.0002\n",
      "Variable: yr_built_1981        Importance: 0.0002\n",
      "Variable: yr_built_1985        Importance: 0.0002\n",
      "Variable: yr_built_1986        Importance: 0.0002\n",
      "Variable: yr_built_1992        Importance: 0.0002\n",
      "Variable: yr_built_1993        Importance: 0.0002\n",
      "Variable: yr_built_1994        Importance: 0.0002\n",
      "Variable: yr_built_1998        Importance: 0.0002\n",
      "Variable: yr_built_2002        Importance: 0.0002\n",
      "Variable: yr_built_2009        Importance: 0.0002\n",
      "Variable: yr_renovated_1965    Importance: 0.0002\n",
      "Variable: yr_renovated_1993    Importance: 0.0002\n",
      "Variable: yr_renovated_1994    Importance: 0.0002\n",
      "Variable: yr_renovated_2002    Importance: 0.0002\n",
      "Variable: zipcode_98010        Importance: 0.0002\n",
      "Variable: zipcode_98014        Importance: 0.0002\n",
      "Variable: zipcode_98024        Importance: 0.0002\n",
      "Variable: zipcode_98045        Importance: 0.0002\n",
      "Variable: zipcode_98070        Importance: 0.0002\n",
      "Variable: zipcode_98077        Importance: 0.0002\n",
      "Variable: yr_built_1901        Importance: 0.0001\n",
      "Variable: yr_built_1903        Importance: 0.0001\n",
      "Variable: yr_built_1904        Importance: 0.0001\n",
      "Variable: yr_built_1917        Importance: 0.0001\n",
      "Variable: yr_built_1932        Importance: 0.0001\n",
      "Variable: yr_built_1933        Importance: 0.0001\n",
      "Variable: yr_built_1943        Importance: 0.0001\n",
      "Variable: yr_built_1944        Importance: 0.0001\n",
      "Variable: yr_built_1970        Importance: 0.0001\n",
      "Variable: yr_built_1971        Importance: 0.0001\n",
      "Variable: yr_built_1974        Importance: 0.0001\n",
      "Variable: yr_built_2012        Importance: 0.0001\n",
      "Variable: yr_renovated_1980    Importance: 0.0001\n",
      "Variable: yr_renovated_1982    Importance: 0.0001\n",
      "Variable: yr_renovated_1983    Importance: 0.0001\n",
      "Variable: yr_renovated_1985    Importance: 0.0001\n",
      "Variable: yr_renovated_1990    Importance: 0.0001\n",
      "Variable: yr_renovated_1991    Importance: 0.0001\n",
      "Variable: yr_renovated_1998    Importance: 0.0001\n",
      "Variable: yr_renovated_2003    Importance: 0.0001\n",
      "Variable: yr_renovated_2004    Importance: 0.0001\n",
      "Variable: yr_renovated_2005    Importance: 0.0001\n",
      "Variable: yr_renovated_2007    Importance: 0.0001\n",
      "Variable: yr_renovated_2008    Importance: 0.0001\n",
      "Variable: yr_renovated_2010    Importance: 0.0001\n",
      "Variable: yr_renovated_2013    Importance: 0.0001\n",
      "Variable: yr_renovated_2014    Importance: 0.0001\n",
      "Variable: yr_built_1934        Importance: 0.0\n",
      "Variable: yr_built_1935        Importance: 0.0\n",
      "Variable: yr_renovated_1934    Importance: 0.0\n",
      "Variable: yr_renovated_1940    Importance: 0.0\n",
      "Variable: yr_renovated_1944    Importance: 0.0\n",
      "Variable: yr_renovated_1945    Importance: 0.0\n",
      "Variable: yr_renovated_1946    Importance: 0.0\n",
      "Variable: yr_renovated_1948    Importance: 0.0\n",
      "Variable: yr_renovated_1950    Importance: 0.0\n",
      "Variable: yr_renovated_1951    Importance: 0.0\n",
      "Variable: yr_renovated_1953    Importance: 0.0\n",
      "Variable: yr_renovated_1954    Importance: 0.0\n",
      "Variable: yr_renovated_1955    Importance: 0.0\n",
      "Variable: yr_renovated_1956    Importance: 0.0\n",
      "Variable: yr_renovated_1957    Importance: 0.0\n",
      "Variable: yr_renovated_1958    Importance: 0.0\n",
      "Variable: yr_renovated_1959    Importance: 0.0\n",
      "Variable: yr_renovated_1960    Importance: 0.0\n",
      "Variable: yr_renovated_1962    Importance: 0.0\n",
      "Variable: yr_renovated_1963    Importance: 0.0\n",
      "Variable: yr_renovated_1964    Importance: 0.0\n",
      "Variable: yr_renovated_1967    Importance: 0.0\n",
      "Variable: yr_renovated_1968    Importance: 0.0\n",
      "Variable: yr_renovated_1969    Importance: 0.0\n",
      "Variable: yr_renovated_1970    Importance: 0.0\n",
      "Variable: yr_renovated_1971    Importance: 0.0\n",
      "Variable: yr_renovated_1972    Importance: 0.0\n",
      "Variable: yr_renovated_1973    Importance: 0.0\n",
      "Variable: yr_renovated_1974    Importance: 0.0\n",
      "Variable: yr_renovated_1975    Importance: 0.0\n",
      "Variable: yr_renovated_1976    Importance: 0.0\n",
      "Variable: yr_renovated_1977    Importance: 0.0\n",
      "Variable: yr_renovated_1978    Importance: 0.0\n",
      "Variable: yr_renovated_1979    Importance: 0.0\n",
      "Variable: yr_renovated_1981    Importance: 0.0\n",
      "Variable: yr_renovated_1984    Importance: 0.0\n",
      "Variable: yr_renovated_1986    Importance: 0.0\n",
      "Variable: yr_renovated_1988    Importance: 0.0\n",
      "Variable: yr_renovated_1989    Importance: 0.0\n",
      "Variable: yr_renovated_1992    Importance: 0.0\n",
      "Variable: yr_renovated_1995    Importance: 0.0\n",
      "Variable: yr_renovated_1996    Importance: 0.0\n",
      "Variable: yr_renovated_1997    Importance: 0.0\n",
      "Variable: yr_renovated_1999    Importance: 0.0\n",
      "Variable: yr_renovated_2000    Importance: 0.0\n",
      "Variable: yr_renovated_2001    Importance: 0.0\n",
      "Variable: yr_renovated_2006    Importance: 0.0\n",
      "Variable: yr_renovated_2011    Importance: 0.0\n",
      "Variable: yr_renovated_2012    Importance: 0.0\n",
      "Variable: yr_renovated_2015    Importance: 0.0\n",
      "Variable: zipcode_98148        Importance: 0.0\n"
     ]
    }
   ],
   "source": [
    "# Get numerical feature importances\n",
    "rf_importances = list(rf.feature_importances_)\n",
    "# List of tuples with variable and importance\n",
    "rf_feature_importances = [(rf_feature, round(rf_importance, 4)) for rf_feature, rf_importance in zip(rf_feature_list, rf_importances)]\n",
    "# Sort the feature importances by most important first\n",
    "rf_feature_importances = sorted(rf_feature_importances, key = lambda x: x[1], reverse = True)\n",
    "# Print out the feature and importances \n",
    "[print('Variable: {:20} Importance: {}'.format(*pair)) for pair in rf_feature_importances];\n"
   ]
  },
  {
   "cell_type": "code",
   "execution_count": 761,
   "metadata": {},
   "outputs": [],
   "source": [
    "x_values = list(range(len(rf_importances)))\n",
    "# List of features sorted from most to least important\n",
    "rf_sorted_importances = [rf_importance[1] for rf_importance in rf_feature_importances]\n",
    "rf_sorted_features = [rf_importance[0] for rf_importance in rf_feature_importances]\n",
    "# Cumulative importances\n",
    "rf_cumulative_importances = np.cumsum(rf_sorted_importances)\n",
    "# Make a line graph\n",
    "# plt.plot(x_values, rf_cumulative_importances, 'g-')\n",
    "# # Draw line at 95% of importance retained\n",
    "# plt.hlines(y = 0.95, xmin=0, xmax=len(rf_sorted_importances), color = 'r', linestyles = 'dashed')\n",
    "# # Format x ticks and labels\n",
    "# plt.xticks(x_values, rf_sorted_features, rotation = 'vertical')\n",
    "# # Axis labels and title\n",
    "# plt.xlabel('Variable'); plt.ylabel('Cumulative Importance'); plt.title('Cumulative Importances');plt.rcParams['figure.figsize'] = [500, 50]"
   ]
  },
  {
   "cell_type": "code",
   "execution_count": 742,
   "metadata": {},
   "outputs": [
    {
     "name": "stdout",
     "output_type": "stream",
     "text": [
      "Number of features for 95% importance: 60\n"
     ]
    }
   ],
   "source": [
    "# Find number of features for cumulative importance of 95%\n",
    "# Add 1 because Python is zero-indexed\n",
    "print('Number of features for 95% importance:', np.where(rf_cumulative_importances > 0.95)[0][0] + 1)"
   ]
  },
  {
   "cell_type": "code",
   "execution_count": 744,
   "metadata": {},
   "outputs": [
    {
     "name": "stdout",
     "output_type": "stream",
     "text": [
      "Important train features shape: (19451, 59)\n",
      "Important test features shape: (2162, 59)\n"
     ]
    }
   ],
   "source": [
    "# Extract the names of the most important features\n",
    "rf_important_feature_names = [rf_feature[0] for rf_feature in rf_feature_importances[0:59]]\n",
    "# Find the columns of the most important features\n",
    "rf_important_indices = [rf_feature_list.index(rf_feature) for rf_feature in rf_important_feature_names]\n",
    "# Create training and testing sets with only the important features\n",
    "rf_important_train_features = rf_train_features[:, rf_important_indices]\n",
    "rf_important_test_features = rf_test_features[:, rf_important_indices]\n",
    "# Sanity check on operations\n",
    "print('Important train features shape:', rf_important_train_features.shape)\n",
    "print('Important test features shape:', rf_important_test_features.shape)"
   ]
  },
  {
   "cell_type": "code",
   "execution_count": 754,
   "metadata": {},
   "outputs": [
    {
     "ename": "KeyboardInterrupt",
     "evalue": "",
     "output_type": "error",
     "traceback": [
      "\u001b[0;31m---------------------------------------------------------------------------\u001b[0m",
      "\u001b[0;31mKeyboardInterrupt\u001b[0m                         Traceback (most recent call last)",
      "\u001b[0;32m<ipython-input-754-29831e1ff104>\u001b[0m in \u001b[0;36m<module>\u001b[0;34m\u001b[0m\n\u001b[1;32m      3\u001b[0m \u001b[0;34m\u001b[0m\u001b[0m\n\u001b[1;32m      4\u001b[0m \u001b[0;31m# Train the expanded model on only the important features\u001b[0m\u001b[0;34m\u001b[0m\u001b[0;34m\u001b[0m\u001b[0;34m\u001b[0m\u001b[0m\n\u001b[0;32m----> 5\u001b[0;31m \u001b[0mrf\u001b[0m\u001b[0;34m.\u001b[0m\u001b[0mfit\u001b[0m\u001b[0;34m(\u001b[0m\u001b[0mrf_important_train_features\u001b[0m\u001b[0;34m,\u001b[0m \u001b[0mrf_train_labels\u001b[0m\u001b[0;34m)\u001b[0m\u001b[0;34m;\u001b[0m\u001b[0;34m\u001b[0m\u001b[0;34m\u001b[0m\u001b[0m\n\u001b[0m\u001b[1;32m      6\u001b[0m \u001b[0;34m\u001b[0m\u001b[0m\n\u001b[1;32m      7\u001b[0m \u001b[0mstop\u001b[0m \u001b[0;34m=\u001b[0m \u001b[0mtimeit\u001b[0m\u001b[0;34m.\u001b[0m\u001b[0mdefault_timer\u001b[0m\u001b[0;34m(\u001b[0m\u001b[0;34m)\u001b[0m\u001b[0;34m\u001b[0m\u001b[0;34m\u001b[0m\u001b[0m\n",
      "\u001b[0;32m~/opt/anaconda3/lib/python3.7/site-packages/sklearn/ensemble/_forest.py\u001b[0m in \u001b[0;36mfit\u001b[0;34m(self, X, y, sample_weight)\u001b[0m\n\u001b[1;32m    381\u001b[0m                     \u001b[0mverbose\u001b[0m\u001b[0;34m=\u001b[0m\u001b[0mself\u001b[0m\u001b[0;34m.\u001b[0m\u001b[0mverbose\u001b[0m\u001b[0;34m,\u001b[0m \u001b[0mclass_weight\u001b[0m\u001b[0;34m=\u001b[0m\u001b[0mself\u001b[0m\u001b[0;34m.\u001b[0m\u001b[0mclass_weight\u001b[0m\u001b[0;34m,\u001b[0m\u001b[0;34m\u001b[0m\u001b[0;34m\u001b[0m\u001b[0m\n\u001b[1;32m    382\u001b[0m                     n_samples_bootstrap=n_samples_bootstrap)\n\u001b[0;32m--> 383\u001b[0;31m                 for i, t in enumerate(trees))\n\u001b[0m\u001b[1;32m    384\u001b[0m \u001b[0;34m\u001b[0m\u001b[0m\n\u001b[1;32m    385\u001b[0m             \u001b[0;31m# Collect newly grown trees\u001b[0m\u001b[0;34m\u001b[0m\u001b[0;34m\u001b[0m\u001b[0;34m\u001b[0m\u001b[0m\n",
      "\u001b[0;32m~/opt/anaconda3/lib/python3.7/site-packages/joblib/parallel.py\u001b[0m in \u001b[0;36m__call__\u001b[0;34m(self, iterable)\u001b[0m\n\u001b[1;32m   1005\u001b[0m                 \u001b[0mself\u001b[0m\u001b[0;34m.\u001b[0m\u001b[0m_iterating\u001b[0m \u001b[0;34m=\u001b[0m \u001b[0mself\u001b[0m\u001b[0;34m.\u001b[0m\u001b[0m_original_iterator\u001b[0m \u001b[0;32mis\u001b[0m \u001b[0;32mnot\u001b[0m \u001b[0;32mNone\u001b[0m\u001b[0;34m\u001b[0m\u001b[0;34m\u001b[0m\u001b[0m\n\u001b[1;32m   1006\u001b[0m \u001b[0;34m\u001b[0m\u001b[0m\n\u001b[0;32m-> 1007\u001b[0;31m             \u001b[0;32mwhile\u001b[0m \u001b[0mself\u001b[0m\u001b[0;34m.\u001b[0m\u001b[0mdispatch_one_batch\u001b[0m\u001b[0;34m(\u001b[0m\u001b[0miterator\u001b[0m\u001b[0;34m)\u001b[0m\u001b[0;34m:\u001b[0m\u001b[0;34m\u001b[0m\u001b[0;34m\u001b[0m\u001b[0m\n\u001b[0m\u001b[1;32m   1008\u001b[0m                 \u001b[0;32mpass\u001b[0m\u001b[0;34m\u001b[0m\u001b[0;34m\u001b[0m\u001b[0m\n\u001b[1;32m   1009\u001b[0m \u001b[0;34m\u001b[0m\u001b[0m\n",
      "\u001b[0;32m~/opt/anaconda3/lib/python3.7/site-packages/joblib/parallel.py\u001b[0m in \u001b[0;36mdispatch_one_batch\u001b[0;34m(self, iterator)\u001b[0m\n\u001b[1;32m    833\u001b[0m                 \u001b[0;32mreturn\u001b[0m \u001b[0;32mFalse\u001b[0m\u001b[0;34m\u001b[0m\u001b[0;34m\u001b[0m\u001b[0m\n\u001b[1;32m    834\u001b[0m             \u001b[0;32melse\u001b[0m\u001b[0;34m:\u001b[0m\u001b[0;34m\u001b[0m\u001b[0;34m\u001b[0m\u001b[0m\n\u001b[0;32m--> 835\u001b[0;31m                 \u001b[0mself\u001b[0m\u001b[0;34m.\u001b[0m\u001b[0m_dispatch\u001b[0m\u001b[0;34m(\u001b[0m\u001b[0mtasks\u001b[0m\u001b[0;34m)\u001b[0m\u001b[0;34m\u001b[0m\u001b[0;34m\u001b[0m\u001b[0m\n\u001b[0m\u001b[1;32m    836\u001b[0m                 \u001b[0;32mreturn\u001b[0m \u001b[0;32mTrue\u001b[0m\u001b[0;34m\u001b[0m\u001b[0;34m\u001b[0m\u001b[0m\n\u001b[1;32m    837\u001b[0m \u001b[0;34m\u001b[0m\u001b[0m\n",
      "\u001b[0;32m~/opt/anaconda3/lib/python3.7/site-packages/joblib/parallel.py\u001b[0m in \u001b[0;36m_dispatch\u001b[0;34m(self, batch)\u001b[0m\n\u001b[1;32m    752\u001b[0m         \u001b[0;32mwith\u001b[0m \u001b[0mself\u001b[0m\u001b[0;34m.\u001b[0m\u001b[0m_lock\u001b[0m\u001b[0;34m:\u001b[0m\u001b[0;34m\u001b[0m\u001b[0;34m\u001b[0m\u001b[0m\n\u001b[1;32m    753\u001b[0m             \u001b[0mjob_idx\u001b[0m \u001b[0;34m=\u001b[0m \u001b[0mlen\u001b[0m\u001b[0;34m(\u001b[0m\u001b[0mself\u001b[0m\u001b[0;34m.\u001b[0m\u001b[0m_jobs\u001b[0m\u001b[0;34m)\u001b[0m\u001b[0;34m\u001b[0m\u001b[0;34m\u001b[0m\u001b[0m\n\u001b[0;32m--> 754\u001b[0;31m             \u001b[0mjob\u001b[0m \u001b[0;34m=\u001b[0m \u001b[0mself\u001b[0m\u001b[0;34m.\u001b[0m\u001b[0m_backend\u001b[0m\u001b[0;34m.\u001b[0m\u001b[0mapply_async\u001b[0m\u001b[0;34m(\u001b[0m\u001b[0mbatch\u001b[0m\u001b[0;34m,\u001b[0m \u001b[0mcallback\u001b[0m\u001b[0;34m=\u001b[0m\u001b[0mcb\u001b[0m\u001b[0;34m)\u001b[0m\u001b[0;34m\u001b[0m\u001b[0;34m\u001b[0m\u001b[0m\n\u001b[0m\u001b[1;32m    755\u001b[0m             \u001b[0;31m# A job can complete so quickly than its callback is\u001b[0m\u001b[0;34m\u001b[0m\u001b[0;34m\u001b[0m\u001b[0;34m\u001b[0m\u001b[0m\n\u001b[1;32m    756\u001b[0m             \u001b[0;31m# called before we get here, causing self._jobs to\u001b[0m\u001b[0;34m\u001b[0m\u001b[0;34m\u001b[0m\u001b[0;34m\u001b[0m\u001b[0m\n",
      "\u001b[0;32m~/opt/anaconda3/lib/python3.7/site-packages/joblib/_parallel_backends.py\u001b[0m in \u001b[0;36mapply_async\u001b[0;34m(self, func, callback)\u001b[0m\n\u001b[1;32m    207\u001b[0m     \u001b[0;32mdef\u001b[0m \u001b[0mapply_async\u001b[0m\u001b[0;34m(\u001b[0m\u001b[0mself\u001b[0m\u001b[0;34m,\u001b[0m \u001b[0mfunc\u001b[0m\u001b[0;34m,\u001b[0m \u001b[0mcallback\u001b[0m\u001b[0;34m=\u001b[0m\u001b[0;32mNone\u001b[0m\u001b[0;34m)\u001b[0m\u001b[0;34m:\u001b[0m\u001b[0;34m\u001b[0m\u001b[0;34m\u001b[0m\u001b[0m\n\u001b[1;32m    208\u001b[0m         \u001b[0;34m\"\"\"Schedule a func to be run\"\"\"\u001b[0m\u001b[0;34m\u001b[0m\u001b[0;34m\u001b[0m\u001b[0m\n\u001b[0;32m--> 209\u001b[0;31m         \u001b[0mresult\u001b[0m \u001b[0;34m=\u001b[0m \u001b[0mImmediateResult\u001b[0m\u001b[0;34m(\u001b[0m\u001b[0mfunc\u001b[0m\u001b[0;34m)\u001b[0m\u001b[0;34m\u001b[0m\u001b[0;34m\u001b[0m\u001b[0m\n\u001b[0m\u001b[1;32m    210\u001b[0m         \u001b[0;32mif\u001b[0m \u001b[0mcallback\u001b[0m\u001b[0;34m:\u001b[0m\u001b[0;34m\u001b[0m\u001b[0;34m\u001b[0m\u001b[0m\n\u001b[1;32m    211\u001b[0m             \u001b[0mcallback\u001b[0m\u001b[0;34m(\u001b[0m\u001b[0mresult\u001b[0m\u001b[0;34m)\u001b[0m\u001b[0;34m\u001b[0m\u001b[0;34m\u001b[0m\u001b[0m\n",
      "\u001b[0;32m~/opt/anaconda3/lib/python3.7/site-packages/joblib/_parallel_backends.py\u001b[0m in \u001b[0;36m__init__\u001b[0;34m(self, batch)\u001b[0m\n\u001b[1;32m    588\u001b[0m         \u001b[0;31m# Don't delay the application, to avoid keeping the input\u001b[0m\u001b[0;34m\u001b[0m\u001b[0;34m\u001b[0m\u001b[0;34m\u001b[0m\u001b[0m\n\u001b[1;32m    589\u001b[0m         \u001b[0;31m# arguments in memory\u001b[0m\u001b[0;34m\u001b[0m\u001b[0;34m\u001b[0m\u001b[0;34m\u001b[0m\u001b[0m\n\u001b[0;32m--> 590\u001b[0;31m         \u001b[0mself\u001b[0m\u001b[0;34m.\u001b[0m\u001b[0mresults\u001b[0m \u001b[0;34m=\u001b[0m \u001b[0mbatch\u001b[0m\u001b[0;34m(\u001b[0m\u001b[0;34m)\u001b[0m\u001b[0;34m\u001b[0m\u001b[0;34m\u001b[0m\u001b[0m\n\u001b[0m\u001b[1;32m    591\u001b[0m \u001b[0;34m\u001b[0m\u001b[0m\n\u001b[1;32m    592\u001b[0m     \u001b[0;32mdef\u001b[0m \u001b[0mget\u001b[0m\u001b[0;34m(\u001b[0m\u001b[0mself\u001b[0m\u001b[0;34m)\u001b[0m\u001b[0;34m:\u001b[0m\u001b[0;34m\u001b[0m\u001b[0;34m\u001b[0m\u001b[0m\n",
      "\u001b[0;32m~/opt/anaconda3/lib/python3.7/site-packages/joblib/parallel.py\u001b[0m in \u001b[0;36m__call__\u001b[0;34m(self)\u001b[0m\n\u001b[1;32m    254\u001b[0m         \u001b[0;32mwith\u001b[0m \u001b[0mparallel_backend\u001b[0m\u001b[0;34m(\u001b[0m\u001b[0mself\u001b[0m\u001b[0;34m.\u001b[0m\u001b[0m_backend\u001b[0m\u001b[0;34m,\u001b[0m \u001b[0mn_jobs\u001b[0m\u001b[0;34m=\u001b[0m\u001b[0mself\u001b[0m\u001b[0;34m.\u001b[0m\u001b[0m_n_jobs\u001b[0m\u001b[0;34m)\u001b[0m\u001b[0;34m:\u001b[0m\u001b[0;34m\u001b[0m\u001b[0;34m\u001b[0m\u001b[0m\n\u001b[1;32m    255\u001b[0m             return [func(*args, **kwargs)\n\u001b[0;32m--> 256\u001b[0;31m                     for func, args, kwargs in self.items]\n\u001b[0m\u001b[1;32m    257\u001b[0m \u001b[0;34m\u001b[0m\u001b[0m\n\u001b[1;32m    258\u001b[0m     \u001b[0;32mdef\u001b[0m \u001b[0m__len__\u001b[0m\u001b[0;34m(\u001b[0m\u001b[0mself\u001b[0m\u001b[0;34m)\u001b[0m\u001b[0;34m:\u001b[0m\u001b[0;34m\u001b[0m\u001b[0;34m\u001b[0m\u001b[0m\n",
      "\u001b[0;32m~/opt/anaconda3/lib/python3.7/site-packages/joblib/parallel.py\u001b[0m in \u001b[0;36m<listcomp>\u001b[0;34m(.0)\u001b[0m\n\u001b[1;32m    254\u001b[0m         \u001b[0;32mwith\u001b[0m \u001b[0mparallel_backend\u001b[0m\u001b[0;34m(\u001b[0m\u001b[0mself\u001b[0m\u001b[0;34m.\u001b[0m\u001b[0m_backend\u001b[0m\u001b[0;34m,\u001b[0m \u001b[0mn_jobs\u001b[0m\u001b[0;34m=\u001b[0m\u001b[0mself\u001b[0m\u001b[0;34m.\u001b[0m\u001b[0m_n_jobs\u001b[0m\u001b[0;34m)\u001b[0m\u001b[0;34m:\u001b[0m\u001b[0;34m\u001b[0m\u001b[0;34m\u001b[0m\u001b[0m\n\u001b[1;32m    255\u001b[0m             return [func(*args, **kwargs)\n\u001b[0;32m--> 256\u001b[0;31m                     for func, args, kwargs in self.items]\n\u001b[0m\u001b[1;32m    257\u001b[0m \u001b[0;34m\u001b[0m\u001b[0m\n\u001b[1;32m    258\u001b[0m     \u001b[0;32mdef\u001b[0m \u001b[0m__len__\u001b[0m\u001b[0;34m(\u001b[0m\u001b[0mself\u001b[0m\u001b[0;34m)\u001b[0m\u001b[0;34m:\u001b[0m\u001b[0;34m\u001b[0m\u001b[0;34m\u001b[0m\u001b[0m\n",
      "\u001b[0;32m~/opt/anaconda3/lib/python3.7/site-packages/sklearn/ensemble/_forest.py\u001b[0m in \u001b[0;36m_parallel_build_trees\u001b[0;34m(tree, forest, X, y, sample_weight, tree_idx, n_trees, verbose, class_weight, n_samples_bootstrap)\u001b[0m\n\u001b[1;32m    163\u001b[0m             \u001b[0mcurr_sample_weight\u001b[0m \u001b[0;34m*=\u001b[0m \u001b[0mcompute_sample_weight\u001b[0m\u001b[0;34m(\u001b[0m\u001b[0;34m'balanced'\u001b[0m\u001b[0;34m,\u001b[0m \u001b[0my\u001b[0m\u001b[0;34m,\u001b[0m \u001b[0mindices\u001b[0m\u001b[0;34m)\u001b[0m\u001b[0;34m\u001b[0m\u001b[0;34m\u001b[0m\u001b[0m\n\u001b[1;32m    164\u001b[0m \u001b[0;34m\u001b[0m\u001b[0m\n\u001b[0;32m--> 165\u001b[0;31m         \u001b[0mtree\u001b[0m\u001b[0;34m.\u001b[0m\u001b[0mfit\u001b[0m\u001b[0;34m(\u001b[0m\u001b[0mX\u001b[0m\u001b[0;34m,\u001b[0m \u001b[0my\u001b[0m\u001b[0;34m,\u001b[0m \u001b[0msample_weight\u001b[0m\u001b[0;34m=\u001b[0m\u001b[0mcurr_sample_weight\u001b[0m\u001b[0;34m,\u001b[0m \u001b[0mcheck_input\u001b[0m\u001b[0;34m=\u001b[0m\u001b[0;32mFalse\u001b[0m\u001b[0;34m)\u001b[0m\u001b[0;34m\u001b[0m\u001b[0;34m\u001b[0m\u001b[0m\n\u001b[0m\u001b[1;32m    166\u001b[0m     \u001b[0;32melse\u001b[0m\u001b[0;34m:\u001b[0m\u001b[0;34m\u001b[0m\u001b[0;34m\u001b[0m\u001b[0m\n\u001b[1;32m    167\u001b[0m         \u001b[0mtree\u001b[0m\u001b[0;34m.\u001b[0m\u001b[0mfit\u001b[0m\u001b[0;34m(\u001b[0m\u001b[0mX\u001b[0m\u001b[0;34m,\u001b[0m \u001b[0my\u001b[0m\u001b[0;34m,\u001b[0m \u001b[0msample_weight\u001b[0m\u001b[0;34m=\u001b[0m\u001b[0msample_weight\u001b[0m\u001b[0;34m,\u001b[0m \u001b[0mcheck_input\u001b[0m\u001b[0;34m=\u001b[0m\u001b[0;32mFalse\u001b[0m\u001b[0;34m)\u001b[0m\u001b[0;34m\u001b[0m\u001b[0;34m\u001b[0m\u001b[0m\n",
      "\u001b[0;32m~/opt/anaconda3/lib/python3.7/site-packages/sklearn/tree/_classes.py\u001b[0m in \u001b[0;36mfit\u001b[0;34m(self, X, y, sample_weight, check_input, X_idx_sorted)\u001b[0m\n\u001b[1;32m   1223\u001b[0m             \u001b[0msample_weight\u001b[0m\u001b[0;34m=\u001b[0m\u001b[0msample_weight\u001b[0m\u001b[0;34m,\u001b[0m\u001b[0;34m\u001b[0m\u001b[0;34m\u001b[0m\u001b[0m\n\u001b[1;32m   1224\u001b[0m             \u001b[0mcheck_input\u001b[0m\u001b[0;34m=\u001b[0m\u001b[0mcheck_input\u001b[0m\u001b[0;34m,\u001b[0m\u001b[0;34m\u001b[0m\u001b[0;34m\u001b[0m\u001b[0m\n\u001b[0;32m-> 1225\u001b[0;31m             X_idx_sorted=X_idx_sorted)\n\u001b[0m\u001b[1;32m   1226\u001b[0m         \u001b[0;32mreturn\u001b[0m \u001b[0mself\u001b[0m\u001b[0;34m\u001b[0m\u001b[0;34m\u001b[0m\u001b[0m\n\u001b[1;32m   1227\u001b[0m \u001b[0;34m\u001b[0m\u001b[0m\n",
      "\u001b[0;32m~/opt/anaconda3/lib/python3.7/site-packages/sklearn/tree/_classes.py\u001b[0m in \u001b[0;36mfit\u001b[0;34m(self, X, y, sample_weight, check_input, X_idx_sorted)\u001b[0m\n\u001b[1;32m    365\u001b[0m                                            min_impurity_split)\n\u001b[1;32m    366\u001b[0m \u001b[0;34m\u001b[0m\u001b[0m\n\u001b[0;32m--> 367\u001b[0;31m         \u001b[0mbuilder\u001b[0m\u001b[0;34m.\u001b[0m\u001b[0mbuild\u001b[0m\u001b[0;34m(\u001b[0m\u001b[0mself\u001b[0m\u001b[0;34m.\u001b[0m\u001b[0mtree_\u001b[0m\u001b[0;34m,\u001b[0m \u001b[0mX\u001b[0m\u001b[0;34m,\u001b[0m \u001b[0my\u001b[0m\u001b[0;34m,\u001b[0m \u001b[0msample_weight\u001b[0m\u001b[0;34m,\u001b[0m \u001b[0mX_idx_sorted\u001b[0m\u001b[0;34m)\u001b[0m\u001b[0;34m\u001b[0m\u001b[0;34m\u001b[0m\u001b[0m\n\u001b[0m\u001b[1;32m    368\u001b[0m \u001b[0;34m\u001b[0m\u001b[0m\n\u001b[1;32m    369\u001b[0m         \u001b[0;32mif\u001b[0m \u001b[0mself\u001b[0m\u001b[0;34m.\u001b[0m\u001b[0mn_outputs_\u001b[0m \u001b[0;34m==\u001b[0m \u001b[0;36m1\u001b[0m \u001b[0;32mand\u001b[0m \u001b[0mis_classifier\u001b[0m\u001b[0;34m(\u001b[0m\u001b[0mself\u001b[0m\u001b[0;34m)\u001b[0m\u001b[0;34m:\u001b[0m\u001b[0;34m\u001b[0m\u001b[0;34m\u001b[0m\u001b[0m\n",
      "\u001b[0;31mKeyboardInterrupt\u001b[0m: "
     ]
    }
   ],
   "source": [
    "#counting the runtime\n",
    "start = timeit.default_timer()  \n",
    "\n",
    "# Train the expanded model on only the important features\n",
    "rf.fit(rf_important_train_features, rf_train_labels);\n",
    "\n",
    "stop = timeit.default_timer()\n",
    "print('Time: ', stop - start)\n",
    "\n",
    "# Make predictions on test data\n",
    "predictions = rf.predict(rf_important_test_features)\n",
    "# Performance metrics\n",
    "errors = abs(predictions - rf_test_labels)\n",
    "print('Average absolute error:', round(np.mean(errors), 2), 'thousands USD.')\n",
    "# Calculate mean absolute percentage error (MAPE)\n",
    "mape = 100 * (errors / rf_test_labels)\n",
    "# Calculate and display accuracy\n",
    "accuracy = 100 - np.mean(mape)\n",
    "print('Accuracy:', round(accuracy, 2), '%.')\n",
    "\n",
    "# Time:  207.77607357499073\n",
    "# Average absolute error: 91.31 thousands USD\n",
    "# Accuracy: 82.59 %\n"
   ]
  },
  {
   "cell_type": "code",
   "execution_count": 765,
   "metadata": {},
   "outputs": [
    {
     "data": {
      "image/png": "[encoded data removed]",
      "text/plain": [
       "<Figure size 1080x576 with 1 Axes>"
      ]
     },
     "metadata": {},
     "output_type": "display_data"
    }
   ],
   "source": [
    "plt.scatter(rf_test_labels, predictions)\n",
    "plt.xlabel('True Values [price]')\n",
    "plt.ylabel('Predictions [pirce]')\n",
    "plt.rcParams['figure.figsize'] = [15, 8]\n",
    "lims = [0, 5000]\n",
    "plt.xlim(lims)\n",
    "plt.ylim(lims)\n",
    "_ = plt.plot(lims, lims)\n"
   ]
  },
  {
   "cell_type": "markdown",
   "metadata": {},
   "source": [
    "## 3 Layers Neural Network"
   ]
  },
  {
   "cell_type": "code",
   "execution_count": 766,
   "metadata": {},
   "outputs": [],
   "source": [
    "from sklearn.tree import DecisionTreeClassifier, export_graphviz\n",
    "from sklearn import tree\n",
    "from sklearn.datasets import load_wine\n",
    "from IPython.display import SVG\n",
    "from graphviz import Source\n",
    "from IPython.display import display"
   ]
  },
  {
   "cell_type": "code",
   "execution_count": 829,
   "metadata": {},
   "outputs": [],
   "source": [
    "#drop unuse features\n",
    "df2 = hp_data.drop([\"id\", \"date\", \"lat\", \"long\", \"sqft_living15\", \"sqft_lot15\",\"formatted_date\",\"week_of_year\"], axis=1)"
   ]
  },
  {
   "cell_type": "code",
   "execution_count": 830,
   "metadata": {},
   "outputs": [],
   "source": [
    "#sorted(df2)"
   ]
  },
  {
   "cell_type": "code",
   "execution_count": 831,
   "metadata": {},
   "outputs": [],
   "source": [
    "#covert features from numerical to factor\n",
    "df2[['waterfront','zipcode','yr_built','yr_renovated']] = df2[['waterfront','zipcode','yr_built','yr_renovated']].astype('category')"
   ]
  },
  {
   "cell_type": "code",
   "execution_count": 832,
   "metadata": {},
   "outputs": [
    {
     "data": {
      "text/html": [
       "<div>\n",
       "<style scoped>\n",
       "    .dataframe tbody tr th:only-of-type {\n",
       "        vertical-align: middle;\n",
       "    }\n",
       "\n",
       "    .dataframe tbody tr th {\n",
       "        vertical-align: top;\n",
       "    }\n",
       "\n",
       "    .dataframe thead th {\n",
       "        text-align: right;\n",
       "    }\n",
       "</style>\n",
       "<table border=\"1\" class=\"dataframe\">\n",
       "  <thead>\n",
       "    <tr style=\"text-align: right;\">\n",
       "      <th></th>\n",
       "      <th>floors</th>\n",
       "      <th>view</th>\n",
       "      <th>condition</th>\n",
       "      <th>grade</th>\n",
       "      <th>sqft_above</th>\n",
       "      <th>sqft_basement</th>\n",
       "      <th>waterfront_0</th>\n",
       "      <th>waterfront_1</th>\n",
       "      <th>yr_built_1900</th>\n",
       "      <th>yr_built_1901</th>\n",
       "      <th>...</th>\n",
       "      <th>zipcode_98146</th>\n",
       "      <th>zipcode_98148</th>\n",
       "      <th>zipcode_98155</th>\n",
       "      <th>zipcode_98166</th>\n",
       "      <th>zipcode_98168</th>\n",
       "      <th>zipcode_98177</th>\n",
       "      <th>zipcode_98178</th>\n",
       "      <th>zipcode_98188</th>\n",
       "      <th>zipcode_98198</th>\n",
       "      <th>zipcode_98199</th>\n",
       "    </tr>\n",
       "  </thead>\n",
       "  <tbody>\n",
       "    <tr>\n",
       "      <th>0</th>\n",
       "      <td>1.0</td>\n",
       "      <td>0</td>\n",
       "      <td>3</td>\n",
       "      <td>7</td>\n",
       "      <td>1180</td>\n",
       "      <td>0</td>\n",
       "      <td>1</td>\n",
       "      <td>0</td>\n",
       "      <td>0</td>\n",
       "      <td>0</td>\n",
       "      <td>...</td>\n",
       "      <td>0</td>\n",
       "      <td>0</td>\n",
       "      <td>0</td>\n",
       "      <td>0</td>\n",
       "      <td>0</td>\n",
       "      <td>0</td>\n",
       "      <td>1</td>\n",
       "      <td>0</td>\n",
       "      <td>0</td>\n",
       "      <td>0</td>\n",
       "    </tr>\n",
       "    <tr>\n",
       "      <th>1</th>\n",
       "      <td>2.0</td>\n",
       "      <td>0</td>\n",
       "      <td>3</td>\n",
       "      <td>7</td>\n",
       "      <td>2170</td>\n",
       "      <td>400</td>\n",
       "      <td>1</td>\n",
       "      <td>0</td>\n",
       "      <td>0</td>\n",
       "      <td>0</td>\n",
       "      <td>...</td>\n",
       "      <td>0</td>\n",
       "      <td>0</td>\n",
       "      <td>0</td>\n",
       "      <td>0</td>\n",
       "      <td>0</td>\n",
       "      <td>0</td>\n",
       "      <td>0</td>\n",
       "      <td>0</td>\n",
       "      <td>0</td>\n",
       "      <td>0</td>\n",
       "    </tr>\n",
       "    <tr>\n",
       "      <th>2</th>\n",
       "      <td>1.0</td>\n",
       "      <td>0</td>\n",
       "      <td>3</td>\n",
       "      <td>6</td>\n",
       "      <td>770</td>\n",
       "      <td>0</td>\n",
       "      <td>1</td>\n",
       "      <td>0</td>\n",
       "      <td>0</td>\n",
       "      <td>0</td>\n",
       "      <td>...</td>\n",
       "      <td>0</td>\n",
       "      <td>0</td>\n",
       "      <td>0</td>\n",
       "      <td>0</td>\n",
       "      <td>0</td>\n",
       "      <td>0</td>\n",
       "      <td>0</td>\n",
       "      <td>0</td>\n",
       "      <td>0</td>\n",
       "      <td>0</td>\n",
       "    </tr>\n",
       "    <tr>\n",
       "      <th>3</th>\n",
       "      <td>1.0</td>\n",
       "      <td>0</td>\n",
       "      <td>5</td>\n",
       "      <td>7</td>\n",
       "      <td>1050</td>\n",
       "      <td>910</td>\n",
       "      <td>1</td>\n",
       "      <td>0</td>\n",
       "      <td>0</td>\n",
       "      <td>0</td>\n",
       "      <td>...</td>\n",
       "      <td>0</td>\n",
       "      <td>0</td>\n",
       "      <td>0</td>\n",
       "      <td>0</td>\n",
       "      <td>0</td>\n",
       "      <td>0</td>\n",
       "      <td>0</td>\n",
       "      <td>0</td>\n",
       "      <td>0</td>\n",
       "      <td>0</td>\n",
       "    </tr>\n",
       "    <tr>\n",
       "      <th>4</th>\n",
       "      <td>1.0</td>\n",
       "      <td>0</td>\n",
       "      <td>3</td>\n",
       "      <td>8</td>\n",
       "      <td>1680</td>\n",
       "      <td>0</td>\n",
       "      <td>1</td>\n",
       "      <td>0</td>\n",
       "      <td>0</td>\n",
       "      <td>0</td>\n",
       "      <td>...</td>\n",
       "      <td>0</td>\n",
       "      <td>0</td>\n",
       "      <td>0</td>\n",
       "      <td>0</td>\n",
       "      <td>0</td>\n",
       "      <td>0</td>\n",
       "      <td>0</td>\n",
       "      <td>0</td>\n",
       "      <td>0</td>\n",
       "      <td>0</td>\n",
       "    </tr>\n",
       "  </tbody>\n",
       "</table>\n",
       "<p>5 rows × 264 columns</p>\n",
       "</div>"
      ],
      "text/plain": [
       "   floors  view  condition  grade  sqft_above  sqft_basement  waterfront_0  \\\n",
       "0     1.0     0          3      7        1180              0             1   \n",
       "1     2.0     0          3      7        2170            400             1   \n",
       "2     1.0     0          3      6         770              0             1   \n",
       "3     1.0     0          5      7        1050            910             1   \n",
       "4     1.0     0          3      8        1680              0             1   \n",
       "\n",
       "   waterfront_1  yr_built_1900  yr_built_1901  ...  zipcode_98146  \\\n",
       "0             0              0              0  ...              0   \n",
       "1             0              0              0  ...              0   \n",
       "2             0              0              0  ...              0   \n",
       "3             0              0              0  ...              0   \n",
       "4             0              0              0  ...              0   \n",
       "\n",
       "   zipcode_98148  zipcode_98155  zipcode_98166  zipcode_98168  zipcode_98177  \\\n",
       "0              0              0              0              0              0   \n",
       "1              0              0              0              0              0   \n",
       "2              0              0              0              0              0   \n",
       "3              0              0              0              0              0   \n",
       "4              0              0              0              0              0   \n",
       "\n",
       "   zipcode_98178  zipcode_98188  zipcode_98198  zipcode_98199  \n",
       "0              1              0              0              0  \n",
       "1              0              0              0              0  \n",
       "2              0              0              0              0  \n",
       "3              0              0              0              0  \n",
       "4              0              0              0              0  \n",
       "\n",
       "[5 rows x 264 columns]"
      ]
     },
     "execution_count": 832,
     "metadata": {},
     "output_type": "execute_result"
    }
   ],
   "source": [
    "df2 = pd.get_dummies(df2)\n",
    "# Display the first 5 rows of the last 12 columns\n",
    "df2.iloc[:,5:].head(5)"
   ]
  },
  {
   "cell_type": "code",
   "execution_count": 833,
   "metadata": {},
   "outputs": [],
   "source": [
    "# Labels are the values we want to predict\n",
    "nn_labels = np.array(df2['price'])\n",
    "# Remove the labels from the features\n",
    "# axis 1 refers to the columns\n",
    "nn_features= df2.drop('price', axis = 1)\n",
    "# Saving feature names for later use\n",
    "nn_feature_list = list(nn_features.columns)\n",
    "# Convert to numpy array\n",
    "nn_features = np.array(nn_features)\n",
    "#normalize features\n",
    "nn_features = nn_features / np.linalg.norm(nn_features)\n"
   ]
  },
  {
   "cell_type": "code",
   "execution_count": 834,
   "metadata": {},
   "outputs": [],
   "source": [
    "# Using Skicit-learn to split data into training and testing sets\n",
    "from sklearn.model_selection import train_test_split\n",
    "# Split the data into training and testing sets\n",
    "nn_train_features, nn_test_features, nn_train_labels, nn_test_labels = train_test_split(nn_features, nn_labels, test_size = 0.1, random_state = 42)"
   ]
  },
  {
   "cell_type": "code",
   "execution_count": 835,
   "metadata": {},
   "outputs": [
    {
     "data": {
      "text/plain": [
       "268"
      ]
     },
     "execution_count": 835,
     "metadata": {},
     "output_type": "execute_result"
    }
   ],
   "source": [
    "nn_train_features.shape[1]"
   ]
  },
  {
   "cell_type": "code",
   "execution_count": 836,
   "metadata": {
    "colab": {},
    "colab_type": "code",
    "id": "qP29uJPDB553"
   },
   "outputs": [],
   "source": [
    "#Fit the model with normalized train data\n",
    "def build_model():\n",
    "  model = keras.Sequential([\n",
    "    layers.Dense(178, activation='relu', input_shape=(nn_train_features.shape[1],)),\n",
    "    layers.Dense(178, activation='relu'),  \n",
    "    layers.Dense(1)\n",
    "  ])\n",
    "\n",
    "  optimizer = tf.keras.optimizers.Adam(\n",
    "    learning_rate=0.0001, beta_1=0.9, beta_2=0.999, epsilon=1e-07, amsgrad=False,\n",
    "    name='Adam'\n",
    ")\n",
    "\n",
    "  model.compile(loss='mse',\n",
    "                optimizer=optimizer,\n",
    "                metrics=['mae', 'mse'])\n",
    "  return model"
   ]
  },
  {
   "cell_type": "code",
   "execution_count": 837,
   "metadata": {
    "colab": {},
    "colab_type": "code",
    "id": "TUfLlB9WCKBr"
   },
   "outputs": [],
   "source": [
    "model = build_model()"
   ]
  },
  {
   "cell_type": "code",
   "execution_count": 838,
   "metadata": {
    "colab": {
     "base_uri": "https://localhost:8080/",
     "height": 247
    },
    "colab_type": "code",
    "id": "wncV2YEYCckm",
    "outputId": "df559bb8-d33c-45f0-a23a-7c846bf389b0"
   },
   "outputs": [
    {
     "name": "stdout",
     "output_type": "stream",
     "text": [
      "Model: \"sequential_54\"\n",
      "_________________________________________________________________\n",
      "Layer (type)                 Output Shape              Param #   \n",
      "=================================================================\n",
      "dense_212 (Dense)            (None, 178)               47882     \n",
      "_________________________________________________________________\n",
      "dense_213 (Dense)            (None, 178)               31862     \n",
      "_________________________________________________________________\n",
      "dense_214 (Dense)            (None, 1)                 179       \n",
      "=================================================================\n",
      "Total params: 79,923\n",
      "Trainable params: 79,923\n",
      "Non-trainable params: 0\n",
      "_________________________________________________________________\n"
     ]
    }
   ],
   "source": [
    "model.summary()"
   ]
  },
  {
   "cell_type": "code",
   "execution_count": 839,
   "metadata": {
    "colab": {
     "base_uri": "https://localhost:8080/",
     "height": 181
    },
    "colab_type": "code",
    "id": "7n4YO4hYCgm3",
    "outputId": "a0c40828-8792-41dd-c284-66cf5b3ae4ea"
   },
   "outputs": [
    {
     "data": {
      "text/plain": [
       "array([[-1.0933218e-05],\n",
       "       [-9.1460388e-06],\n",
       "       [-1.1955290e-03],\n",
       "       [-1.3155568e-06],\n",
       "       [-1.7601364e-05],\n",
       "       [-1.1780288e-05],\n",
       "       [-3.6925994e-06],\n",
       "       [-1.3712379e-05],\n",
       "       [-6.7579339e-04],\n",
       "       [-3.7917926e-06]], dtype=float32)"
      ]
     },
     "execution_count": 839,
     "metadata": {},
     "output_type": "execute_result"
    }
   ],
   "source": [
    "example_batch = nn_train_features[:10]\n",
    "example_result = model.predict(example_batch)\n",
    "example_result"
   ]
  },
  {
   "cell_type": "code",
   "execution_count": 840,
   "metadata": {
    "colab": {
     "base_uri": "https://localhost:8080/",
     "height": 118
    },
    "colab_type": "code",
    "id": "POhwKduqDD70",
    "outputId": "d940bc1c-cfe0-44dd-b82e-1c3450b4b8b0"
   },
   "outputs": [],
   "source": [
    "EPOCHS = 1000\n",
    "\n",
    "# history = model.fit(\n",
    "#   nn_train_features, nn_train_labels,\n",
    "#   epochs=EPOCHS, validation_split = 0.2, verbose=0,\n",
    "#   callbacks=[tfdocs.modeling.EpochDots()])"
   ]
  },
  {
   "cell_type": "code",
   "execution_count": 841,
   "metadata": {
    "colab": {},
    "colab_type": "code",
    "id": "NXgxpoQjHDIK"
   },
   "outputs": [
    {
     "name": "stdout",
     "output_type": "stream",
     "text": [
      "\n",
      "Epoch: 0, loss:428798.6315,  mae:538.2543,  mse:428798.6562,  val_loss:390662.3914,  val_mae:528.4263,  val_mse:390662.3125,  \n",
      "....................................................................................................\n",
      "Epoch: 100, loss:137672.5494,  mae:232.3691,  mse:137672.5781,  val_loss:110224.6831,  val_mae:228.8268,  val_mse:110224.6953,  \n",
      "....................................................................................................\n",
      "Epoch: 200, loss:136537.8410,  mae:232.1149,  mse:136537.8125,  val_loss:109091.9342,  val_mae:225.6110,  val_mse:109091.8984,  \n",
      "....................................................................................................\n",
      "Epoch: 300, loss:135062.0318,  mae:229.8996,  mse:135062.0312,  val_loss:107791.5537,  val_mae:225.2180,  val_mse:107791.5547,  \n",
      "....................................................................................................\n",
      "Epoch: 400, loss:132232.7578,  mae:227.4963,  mse:132232.7344,  val_loss:105315.2559,  val_mae:222.4210,  val_mse:105315.2734,  \n",
      "....................................................................................................\n",
      "Epoch: 500, loss:123928.3428,  mae:218.6081,  mse:123928.2969,  val_loss:98183.9048,  val_mae:212.5964,  val_mse:98183.9375,  \n",
      "....................................................................................................\n",
      "Epoch: 600, loss:87262.0459,  mae:180.9872,  mse:87262.0312,  val_loss:68640.5771,  val_mae:178.1591,  val_mse:68640.5625,  \n",
      "....................................................................................................\n",
      "Epoch: 700, loss:64688.2010,  mae:164.9938,  mse:64688.2148,  val_loss:55549.1275,  val_mae:164.7628,  val_mse:55549.1211,  \n",
      "......................................."
     ]
    }
   ],
   "source": [
    "model = build_model()\n",
    "\n",
    "# The patience parameter is the amount of epochs to check for improvement\n",
    "early_stop = keras.callbacks.EarlyStopping(monitor='val_loss', patience=10)\n",
    "\n",
    "early_history = model.fit(nn_train_features, nn_train_labels, \n",
    "                    epochs=EPOCHS, validation_split = 0.2, verbose=0, \n",
    "                    callbacks=[early_stop, tfdocs.modeling.EpochDots()])"
   ]
  },
  {
   "cell_type": "code",
   "execution_count": 842,
   "metadata": {},
   "outputs": [
    {
     "data": {
      "text/html": [
       "<div>\n",
       "<style scoped>\n",
       "    .dataframe tbody tr th:only-of-type {\n",
       "        vertical-align: middle;\n",
       "    }\n",
       "\n",
       "    .dataframe tbody tr th {\n",
       "        vertical-align: top;\n",
       "    }\n",
       "\n",
       "    .dataframe thead th {\n",
       "        text-align: right;\n",
       "    }\n",
       "</style>\n",
       "<table border=\"1\" class=\"dataframe\">\n",
       "  <thead>\n",
       "    <tr style=\"text-align: right;\">\n",
       "      <th></th>\n",
       "      <th>loss</th>\n",
       "      <th>mae</th>\n",
       "      <th>mse</th>\n",
       "      <th>val_loss</th>\n",
       "      <th>val_mae</th>\n",
       "      <th>val_mse</th>\n",
       "      <th>epoch</th>\n",
       "    </tr>\n",
       "  </thead>\n",
       "  <tbody>\n",
       "    <tr>\n",
       "      <th>734</th>\n",
       "      <td>63281.559443</td>\n",
       "      <td>164.727631</td>\n",
       "      <td>63281.582031</td>\n",
       "      <td>55235.399168</td>\n",
       "      <td>163.313004</td>\n",
       "      <td>55235.386719</td>\n",
       "      <td>734</td>\n",
       "    </tr>\n",
       "    <tr>\n",
       "      <th>735</th>\n",
       "      <td>63180.138131</td>\n",
       "      <td>164.646072</td>\n",
       "      <td>63180.109375</td>\n",
       "      <td>55254.528132</td>\n",
       "      <td>162.804825</td>\n",
       "      <td>55254.535156</td>\n",
       "      <td>735</td>\n",
       "    </tr>\n",
       "    <tr>\n",
       "      <th>736</th>\n",
       "      <td>63162.447811</td>\n",
       "      <td>164.462067</td>\n",
       "      <td>63162.437500</td>\n",
       "      <td>56054.759061</td>\n",
       "      <td>168.600250</td>\n",
       "      <td>56054.738281</td>\n",
       "      <td>736</td>\n",
       "    </tr>\n",
       "    <tr>\n",
       "      <th>737</th>\n",
       "      <td>63126.280435</td>\n",
       "      <td>164.673294</td>\n",
       "      <td>63126.296875</td>\n",
       "      <td>55457.977081</td>\n",
       "      <td>165.970901</td>\n",
       "      <td>55457.980469</td>\n",
       "      <td>737</td>\n",
       "    </tr>\n",
       "    <tr>\n",
       "      <th>738</th>\n",
       "      <td>63115.332240</td>\n",
       "      <td>164.932556</td>\n",
       "      <td>63115.292969</td>\n",
       "      <td>55244.279156</td>\n",
       "      <td>162.340179</td>\n",
       "      <td>55244.281250</td>\n",
       "      <td>738</td>\n",
       "    </tr>\n",
       "  </tbody>\n",
       "</table>\n",
       "</div>"
      ],
      "text/plain": [
       "             loss         mae           mse      val_loss     val_mae  \\\n",
       "734  63281.559443  164.727631  63281.582031  55235.399168  163.313004   \n",
       "735  63180.138131  164.646072  63180.109375  55254.528132  162.804825   \n",
       "736  63162.447811  164.462067  63162.437500  56054.759061  168.600250   \n",
       "737  63126.280435  164.673294  63126.296875  55457.977081  165.970901   \n",
       "738  63115.332240  164.932556  63115.292969  55244.279156  162.340179   \n",
       "\n",
       "          val_mse  epoch  \n",
       "734  55235.386719    734  \n",
       "735  55254.535156    735  \n",
       "736  56054.738281    736  \n",
       "737  55457.980469    737  \n",
       "738  55244.281250    738  "
      ]
     },
     "execution_count": 842,
     "metadata": {},
     "output_type": "execute_result"
    }
   ],
   "source": [
    "hist = pd.DataFrame(early_history.history)\n",
    "hist['epoch'] = early_history.epoch\n",
    "hist.tail()"
   ]
  },
  {
   "cell_type": "code",
   "execution_count": 843,
   "metadata": {},
   "outputs": [],
   "source": [
    "plotter = tfdocs.plots.HistoryPlotter(smoothing_std=2)\n",
    "# plotter.plot({'Early Stopping': early_history}, metric = \"mae\")\n",
    "# plt.ylim([0, 1000000000000000])\n",
    "# plt.ylabel('MAE [MPG]')"
   ]
  },
  {
   "cell_type": "code",
   "execution_count": 844,
   "metadata": {},
   "outputs": [
    {
     "data": {
      "text/plain": [
       "Text(0, 0.5, 'MAE [price in thousands]')"
      ]
     },
     "execution_count": 844,
     "metadata": {},
     "output_type": "execute_result"
    },
    {
     "data": {
      "image/png": "[encoded data removed]",
      "text/plain": [
       "<Figure size 1080x576 with 1 Axes>"
      ]
     },
     "metadata": {},
     "output_type": "display_data"
    }
   ],
   "source": [
    "plotter.plot({'Early Stopping': early_history}, metric = \"mae\")\n",
    "plt.ylabel('MAE [price in thousands]')"
   ]
  },
  {
   "cell_type": "code",
   "execution_count": 846,
   "metadata": {},
   "outputs": [
    {
     "name": "stdout",
     "output_type": "stream",
     "text": [
      "2162/2162 - 0s - loss: 72431.1542 - mae: 172.4533 - mse: 72431.1484\n",
      "Testing set Mean Abs Error: 172.45 price\n"
     ]
    }
   ],
   "source": [
    "loss, mae, mse = model.evaluate(nn_test_features, nn_test_labels, verbose=2)\n",
    "\n",
    "print(\"Testing set Mean Abs Error: {:5.2f} price\".format(mae))"
   ]
  },
  {
   "cell_type": "code",
   "execution_count": 847,
   "metadata": {},
   "outputs": [
    {
     "data": {
      "image/png": "[encoded data removed]",
      "text/plain": [
       "<Figure size 1080x576 with 1 Axes>"
      ]
     },
     "metadata": {},
     "output_type": "display_data"
    }
   ],
   "source": [
    "test_predictions = model.predict(nn_test_features).flatten()\n",
    "\n",
    "a = plt.axes(aspect='equal')\n",
    "plt.scatter(nn_test_labels, test_predictions)\n",
    "plt.xlabel('True Values [price]')\n",
    "plt.ylabel('Predictions [pirce]')\n",
    "lims = [0, 5000]\n",
    "plt.xlim(lims)\n",
    "plt.ylim(lims)\n",
    "_ = plt.plot(lims, lims)"
   ]
  },
  {
   "cell_type": "code",
   "execution_count": 805,
   "metadata": {},
   "outputs": [
    {
     "data": {
      "image/png": "[encoded data removed]",
      "text/plain": [
       "<Figure size 1080x576 with 1 Axes>"
      ]
     },
     "metadata": {},
     "output_type": "display_data"
    }
   ],
   "source": [
    "error = test_predictions - nn_test_labels\n",
    "plt.hist(error, bins = 15)\n",
    "plt.xlabel(\"Prediction Error [Price in thousands]\")\n",
    "_ = plt.ylabel(\"Count\")"
   ]
  },
  {
   "cell_type": "code",
   "execution_count": null,
   "metadata": {},
   "outputs": [],
   "source": []
  },
  {
   "cell_type": "code",
   "execution_count": null,
   "metadata": {},
   "outputs": [],
   "source": []
  }
 ],
 "metadata": {
  "accelerator": "GPU",
  "colab": {
   "name": "tf_housing_price.ipynb",
   "provenance": []
  },
  "kernelspec": {
   "display_name": "Python 3.7.4 64-bit ('base': conda)",
   "language": "python",
   "name": "python37464bitbaseconda35290481367a4c03a01a79f0406aca99"
  },
  "language_info": {
   "codemirror_mode": {
    "name": "ipython",
    "version": 3
   },
   "file_extension": ".py",
   "mimetype": "text/x-python",
   "name": "python",
   "nbconvert_exporter": "python",
   "pygments_lexer": "ipython3",
   "version": "3.7.4"
  }
 },
 "nbformat": 4,
 "nbformat_minor": 4
}
